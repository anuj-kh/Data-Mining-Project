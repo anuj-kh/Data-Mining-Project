{
 "cells": [
  {
   "cell_type": "code",
   "execution_count": 36,
   "metadata": {},
   "outputs": [],
   "source": [
    "import pandas as pd\n",
    "import numpy as np\n",
    "import unicodecsv\n",
    "import random\n",
    "import operator\n",
    "import math"
   ]
  },
  {
   "cell_type": "code",
   "execution_count": 37,
   "metadata": {},
   "outputs": [],
   "source": [
    "#getdata() function definition\n",
    "def getdata(filename):\n",
    "    df = pd.read_csv(filename)\n",
    "    df.rename(\n",
    "    columns={\n",
    "        \"Operator\": \"op\",\n",
    "        \"In Out Travelling\": \"inOut\",\n",
    "        \"Network Type\": \"nwrk\",\n",
    "        \"Latitude\": \"lat\",\n",
    "        \"Longitude\": \"long\"\n",
    "    },\n",
    "    inplace=True\n",
    "    )\n",
    "    return df"
   ]
  },
  {
   "cell_type": "code",
   "execution_count": 38,
   "metadata": {
    "scrolled": true
   },
   "outputs": [
    {
     "data": {
      "text/html": [
       "<div>\n",
       "<style scoped>\n",
       "    .dataframe tbody tr th:only-of-type {\n",
       "        vertical-align: middle;\n",
       "    }\n",
       "\n",
       "    .dataframe tbody tr th {\n",
       "        vertical-align: top;\n",
       "    }\n",
       "\n",
       "    .dataframe thead th {\n",
       "        text-align: right;\n",
       "    }\n",
       "</style>\n",
       "<table border=\"1\" class=\"dataframe\">\n",
       "  <thead>\n",
       "    <tr style=\"text-align: right;\">\n",
       "      <th></th>\n",
       "      <th>op</th>\n",
       "      <th>inOut</th>\n",
       "      <th>nwrk</th>\n",
       "      <th>Rating</th>\n",
       "      <th>Call Drop Category</th>\n",
       "      <th>lat</th>\n",
       "      <th>long</th>\n",
       "      <th>State Name</th>\n",
       "    </tr>\n",
       "  </thead>\n",
       "  <tbody>\n",
       "    <tr>\n",
       "      <th>0</th>\n",
       "      <td>RJio</td>\n",
       "      <td>Outdoor</td>\n",
       "      <td>4G</td>\n",
       "      <td>4</td>\n",
       "      <td>2</td>\n",
       "      <td>20.668739</td>\n",
       "      <td>75.351666</td>\n",
       "      <td>Maharashtra</td>\n",
       "    </tr>\n",
       "    <tr>\n",
       "      <th>1</th>\n",
       "      <td>RJio</td>\n",
       "      <td>Indoor</td>\n",
       "      <td>4G</td>\n",
       "      <td>4</td>\n",
       "      <td>2</td>\n",
       "      <td>19.840000</td>\n",
       "      <td>75.235903</td>\n",
       "      <td>Maharashtra</td>\n",
       "    </tr>\n",
       "    <tr>\n",
       "      <th>2</th>\n",
       "      <td>Vodafone</td>\n",
       "      <td>Outdoor</td>\n",
       "      <td>3G</td>\n",
       "      <td>3</td>\n",
       "      <td>2</td>\n",
       "      <td>22.802025</td>\n",
       "      <td>70.814019</td>\n",
       "      <td>Gujarat</td>\n",
       "    </tr>\n",
       "    <tr>\n",
       "      <th>3</th>\n",
       "      <td>Vodafone</td>\n",
       "      <td>Indoor</td>\n",
       "      <td>3G</td>\n",
       "      <td>4</td>\n",
       "      <td>2</td>\n",
       "      <td>28.692893</td>\n",
       "      <td>77.281989</td>\n",
       "      <td>Uttar Pradesh</td>\n",
       "    </tr>\n",
       "    <tr>\n",
       "      <th>4</th>\n",
       "      <td>Airtel</td>\n",
       "      <td>Outdoor</td>\n",
       "      <td>3G</td>\n",
       "      <td>4</td>\n",
       "      <td>2</td>\n",
       "      <td>22.300008</td>\n",
       "      <td>73.199664</td>\n",
       "      <td>Gujarat</td>\n",
       "    </tr>\n",
       "  </tbody>\n",
       "</table>\n",
       "</div>"
      ],
      "text/plain": [
       "         op    inOut nwrk  Rating  Call Drop Category        lat       long  \\\n",
       "0      RJio  Outdoor   4G       4                   2  20.668739  75.351666   \n",
       "1      RJio   Indoor   4G       4                   2  19.840000  75.235903   \n",
       "2  Vodafone  Outdoor   3G       3                   2  22.802025  70.814019   \n",
       "3  Vodafone   Indoor   3G       4                   2  28.692893  77.281989   \n",
       "4    Airtel  Outdoor   3G       4                   2  22.300008  73.199664   \n",
       "\n",
       "      State Name  \n",
       "0    Maharashtra  \n",
       "1    Maharashtra  \n",
       "2        Gujarat  \n",
       "3  Uttar Pradesh  \n",
       "4        Gujarat  "
      ]
     },
     "execution_count": 38,
     "metadata": {},
     "output_type": "execute_result"
    }
   ],
   "source": [
    "df=getdata(\"training.csv\")#,\"RJio\",\"Outdoor\",\"4G\",\"20.003349\",\"85.6443336\")\n",
    "df.head()\n"
   ]
  },
  {
   "cell_type": "code",
   "execution_count": 44,
   "metadata": {},
   "outputs": [
    {
     "name": "stdout",
     "output_type": "stream",
     "text": [
      "{'op': 'RJio', 'inOut': 'Outdoor', 'nwrk': '4G', 'lat': 26.77701484, 'long': 79.02836613}\n"
     ]
    }
   ],
   "source": [
    "inp={}\n",
    "inp['op']   =\"RJio\"           #input(\"input the operator\")\n",
    "inp['inOut']=\"Outdoor\"        #input(\"input the inout travelling\")\n",
    "inp['nwrk'] =\"4G\"         #input(\"input network type\")\n",
    "inp['lat']  =float(\"26.77701484\")          #input(\"input latitude\")\n",
    "inp[\"long\"] =float(\"79.02836613\")         #input(\"input longitude\")\n",
    "print(inp)"
   ]
  },
  {
   "cell_type": "code",
   "execution_count": 54,
   "metadata": {},
   "outputs": [
    {
     "data": {
      "text/plain": [
       "op                             RJio\n",
       "inOut                       Outdoor\n",
       "nwrk                             4G\n",
       "Rating                            5\n",
       "Call Drop Category                2\n",
       "lat                          26.777\n",
       "long                        79.0284\n",
       "State Name            Uttar Pradesh\n",
       "Name: 0, dtype: object"
      ]
     },
     "execution_count": 54,
     "metadata": {},
     "output_type": "execute_result"
    }
   ],
   "source": [
    "tr_df=df[(df['op']==inp['op']) &(df['inOut']==inp['inOut']) &(df['nwrk']==inp['nwrk']) &(df['lat']==inp['lat'])&(df['long']==inp['long'])]\n",
    "tr_df.reset_index(drop=True,inplace=True)\n",
    "tr_df.loc[0]\n"
   ]
  },
  {
   "cell_type": "code",
   "execution_count": 49,
   "metadata": {},
   "outputs": [],
   "source": [
    "def euclideanDist(x, xi):\n",
    "    d = 0.0\n",
    "    for i in range(len(x)-1):\n",
    "        d += pow((float(x[i])-float(xi[i])),2)  #euclidean distance\n",
    "    d = math.sqrt(d)\n",
    "    return d"
   ]
  },
  {
   "cell_type": "code",
   "execution_count": null,
   "metadata": {},
   "outputs": [],
   "source": []
  }
 ],
 "metadata": {
  "kernelspec": {
   "display_name": "Python 3",
   "language": "python",
   "name": "python3"
  },
  "language_info": {
   "codemirror_mode": {
    "name": "ipython",
    "version": 3
   },
   "file_extension": ".py",
   "mimetype": "text/x-python",
   "name": "python",
   "nbconvert_exporter": "python",
   "pygments_lexer": "ipython3",
   "version": "3.7.3"
  }
 },
 "nbformat": 4,
 "nbformat_minor": 2
}
