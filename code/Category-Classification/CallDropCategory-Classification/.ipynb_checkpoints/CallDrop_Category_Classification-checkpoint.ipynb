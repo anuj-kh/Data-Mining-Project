{
 "cells": [
  {
   "cell_type": "code",
   "execution_count": 7,
   "metadata": {},
   "outputs": [],
   "source": [
    "#include all the necessary libraries\n",
    "import pandas as pd\n",
    "import numpy as np\n",
    "import unicodecsv\n",
    "import random\n",
    "import operator\n",
    "import math"
   ]
  },
  {
   "cell_type": "code",
   "execution_count": 8,
   "metadata": {},
   "outputs": [],
   "source": [
    "#getdata() function definition\n",
    "def getdata(filename):\n",
    "    df = pd.read_csv(filename)              #read the specified input file\n",
    "    df.rename(                              #renaming columns to make it easier for coding \n",
    "    columns={\n",
    "        \"Operator\": \"op\",\n",
    "        \"In Out Travelling\": \"inOut\",\n",
    "        \"Network Type\": \"nwrk\",\n",
    "        \"Latitude\": \"lat\",\n",
    "        \"Longitude\": \"long\"\n",
    "    },\n",
    "    inplace=True                            #doing the renaming inplace\n",
    "    )\n",
    "    return df"
   ]
  },
  {
   "cell_type": "code",
   "execution_count": 9,
   "metadata": {},
   "outputs": [],
   "source": [
    "#Function to get the euclidean distance between two entries x and y\n",
    "def euclideanDist(x, y):\n",
    "    d = 0.0                                                 #initializing the distance equal to 0\n",
    "    d += pow((float(x['lat'])-float(y['lat']))/10,2)        #summing the squared difference in the location coordinates\n",
    "    d += pow((float(x['long'])-float(y['long']))/10,2)\n",
    "    d = math.sqrt(d)                                        #taking the squareroot of the sum\n",
    "    return d                                                #return the final distance"
   ]
  },
  {
   "cell_type": "code",
   "execution_count": 10,
   "metadata": {},
   "outputs": [],
   "source": [
    "#Function to generate the report for the predicted results\n",
    "def report(k_value,month):    \n",
    "    ou_df=pd.read_csv('output_'+str(k_value)+'_'+month+'_.csv')  #getting the predicted results\n",
    "    tst_df=pd.read_csv('testing1.csv')                           #getting the observed results \n",
    "\n",
    "    r=0.0          #stores the no. of entries whose rating was predicted correctly\n",
    "    v=0.0          #stores the no. of entries whose call drop category was predicted correctly\n",
    "    t=0.0          #stores the total no. of entries in the testing dataset\n",
    "    \n",
    "    #looping through all the entries in the testing data set\n",
    "    #if rating observed == rating predicted increment r\n",
    "    #if category observed == category predicted increment v\n",
    "    \n",
    "    for i in ou_df.index:\n",
    "        if(ou_df.loc[i][\"Rating\"]==tst_df.loc[i][\"Rating\"]):\n",
    "            r+=1\n",
    "        if(ou_df.loc[i][\"Call Drop Category\"]==tst_df.loc[i][\"Call Drop Category\"]):\n",
    "            v+=1\n",
    "        t+=1\n",
    "        \n",
    "    ra=(r/t)*100    #stores the rating prediction accuracy\n",
    "    va=(v/t)*100    #stores the category predictioin accuracy\n",
    "    print()\n",
    "    print(r,v,t)\n",
    "    print(\"Rating Acc\",ra)\n",
    "    print(\"Cat Acc\",va)\n",
    "    a=[[ra,va,r,v,t,k_value,month]]\n",
    "    \n",
    "    #exporting results in a csv files\n",
    "    df1 = pd.DataFrame(a, columns = [\"Rating Accuracy\", \"Category Accuracy\",\"r\",\"c\",\"t\",\"k_value\",\"Month\"])\n",
    "    df1.to_csv('report.csv',index=False,mode='a',header=True)    \n"
   ]
  },
  {
   "cell_type": "code",
   "execution_count": 15,
   "metadata": {},
   "outputs": [],
   "source": [
    "#KNN prediction and model training\n",
    "#Function takes training and testing data set , month name and k_value as input\n",
    "def knn_predict(test_data, train_data_in,month,k_value):\n",
    "    out=[]                 #array to store the predicted rating and category for entries as pair\n",
    "    for i in test_data.index:\n",
    "        \n",
    "        eu_Distance =[]     #array to store tuples containing rating, category and distance from current entry that is being processed \n",
    "        knn = []            #stores the K nearest tuples to the current entry \n",
    "        v=[0,0,0,0]         #array to get the frequency of each call catgory value\n",
    "        r=[0,0,0,0,0,0]     #array to get the frequency of each rating value\n",
    "        \n",
    "        print(i,end=' ')    #prints the id of the entry that is being processed\n",
    "        inp=test_data.loc[i].to_dict() #inp is a dictionary to store the input test entry\n",
    "        df=train_data_in\n",
    "        #Filtering the traing data based on the input\n",
    "        train_data=df[(df['op']==inp['op']) &(df['inOut']==inp['inOut']) &(df['nwrk']==inp['nwrk'])]\n",
    "        train_data.reset_index(drop=True,inplace=True)\n",
    "        train_data.reset_index(inplace=True)\n",
    "        \n",
    "        #looping through filtered training data to get rating,category and distance corresponding to each training entry\n",
    "        for j in train_data.index:\n",
    "            x=test_data.loc[i].to_dict()\n",
    "            y=train_data.loc[j].to_dict()\n",
    "            eu_dist = euclideanDist(x, y)\n",
    "            eu_Distance.append(list((train_data.loc[j]['Rating'],train_data.loc[j][\"Call Drop Category\"], eu_dist)))\n",
    "        \n",
    "        #sorting the tuples in eu_Distance based on the distance\n",
    "        eu_Distance.sort(key = operator.itemgetter(2))\n",
    "        #storing the nearest k entries in the knn array\n",
    "        knn = eu_Distance[:k_value]\n",
    "       \n",
    "        #Getting the maximum occuring rating and category value among the k neighbours\n",
    "        for k in knn:\n",
    "            r[int(k[0])]+=1\n",
    "            v[int(k[1])]+=1\n",
    "   \n",
    "        rating=r.index(max(r))\n",
    "        category=v.index(max(v))\n",
    "        out.append((rating,category))\n",
    "    \n",
    "    #exporting the results to a csv file\n",
    "    df1 = pd.DataFrame(out, columns = ['Rating', \"Call Drop Category\"])\n",
    "    df1.to_csv('output_'+str(k_value)+'_'+month+'_.csv',index=False)\n",
    "    report(k_value,month)\n",
    "          \n"
   ]
  },
  {
   "cell_type": "markdown",
   "metadata": {},
   "source": [
    "#### We are providing a sample test file and training file to run the code. Running on original data will take atleast 3-4 hours.This is a sample which we are hardcoding so that demo becomes easy."
   ]
  },
  {
   "cell_type": "code",
   "execution_count": 16,
   "metadata": {
    "scrolled": false
   },
   "outputs": [
    {
     "name": "stdout",
     "output_type": "stream",
     "text": [
      "\n",
      "0 1 2 3 4 5 6 7 8 \n",
      "3.0 9.0 9.0\n",
      "Rating Acc 33.33333333333333\n",
      "Cat Acc 100.0\n"
     ]
    }
   ],
   "source": [
    "month ='default_month'\n",
    "tst_df=getdata('testing1.csv')\n",
    "trn_df=getdata('training.csv')\n",
    "print()\n",
    "knn_predict(tst_df,trn_df,month,101)"
   ]
  },
  {
   "cell_type": "code",
   "execution_count": null,
   "metadata": {},
   "outputs": [],
   "source": []
  }
 ],
 "metadata": {
  "kernelspec": {
   "display_name": "Python 3",
   "language": "python",
   "name": "python3"
  },
  "language_info": {
   "codemirror_mode": {
    "name": "ipython",
    "version": 3
   },
   "file_extension": ".py",
   "mimetype": "text/x-python",
   "name": "python",
   "nbconvert_exporter": "python",
   "pygments_lexer": "ipython3",
   "version": "3.7.3"
  }
 },
 "nbformat": 4,
 "nbformat_minor": 2
}
