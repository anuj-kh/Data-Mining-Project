{
 "cells": [
  {
   "cell_type": "markdown",
   "metadata": {},
   "source": [
    "# DATA VISUALISATION"
   ]
  },
  {
   "cell_type": "code",
   "execution_count": 79,
   "metadata": {},
   "outputs": [],
   "source": [
    "import numpy as np\n",
    "import pandas as pd\n",
    "import os\n",
    "import matplotlib.pyplot as plt\n",
    "import seaborn as sns\n",
    "%matplotlib inline"
   ]
  },
  {
   "cell_type": "markdown",
   "metadata": {},
   "source": [
    "### MONTHLY DATA ADDRESS LIST"
   ]
  },
  {
   "cell_type": "code",
   "execution_count": 80,
   "metadata": {},
   "outputs": [],
   "source": [
    "addresses = [r\"../../data/May 2018/Cleaned_and_Encoded_Data_Set_May_2018\"\n",
    "           ,r\"../../data/November 2018/Cleaned_and_Encoded_Data_Set_November_2018\"\n",
    "           ,r\"../../data/October 2018/Cleaned_and_Encoded_Data_Set_October_2018\"\n",
    "           ,r\"../../data/September 2018/Cleaned_and_Encoded_Data_Set_September_2018\"\n",
    "           ,r\"../../data/April 2018/Cleaned_and_Encoded_Data_Set_April_2018\"\n",
    "           ,r\"../../data/August 2018/Cleaned_and_Encoded_Data_Set_August_2018\"\n",
    "           ,r\"../../data/December 2018/Cleaned_and_Encoded_Data_Set_December_2018\"\n",
    "           ,r\"../../data/February 2019/Cleaned_and_Encoded_Data_Set_February_2019\"\n",
    "           ,r\"../../data/January 2019/Cleaned_and_Encoded_Data_Set_January_2019\"\n",
    "           ,r\"../../data/July 2018/Cleaned_and_Encoded_Data_Set_July_2018\"\n",
    "           ,r\"../../data/June 2018/Cleaned_and_Encoded_Data_Set_June_2018\"\n",
    "           ,r\"../../data/March 2019/Cleaned_and_Encoded_Data_Set_March_2019\"\n",
    "           ]\n",
    "month=[\"May 2018\",\"November 2018\",\"October 2018\",\"September 2018\",\"April 2018\",\"August 2018\",\"December 2018\",\"February 2019\",\"January 2019\",\"July 2018\",\"June 2018\",\"March 2019\"]"
   ]
  },
  {
   "cell_type": "markdown",
   "metadata": {},
   "source": [
    "### DISTRIBUTION PLOT : RATING"
   ]
  },
  {
   "cell_type": "code",
   "execution_count": 81,
   "metadata": {},
   "outputs": [],
   "source": [
    "def DISTRIBUTION_PLOT_RATING(df,j,k):\n",
    "    plt.title('DISTRIBUTION PLOT : RATING',fontsize=20)\n",
    "    plt.yticks( size=20)\n",
    "    plt.xticks( size=20)\n",
    "    plt.xlabel('', size=20)\n",
    "    plt.ylabel('', size=20)\n",
    "    #sns.distplot(df['Rating'],kde=False)\n",
    "    sns.countplot(x=\"Rating\",data=df)\n",
    "\n",
    "    fig1 = plt.gcf()     \n",
    "    fig1.savefig('../../plots/Pre-Processing Plots/'+k+'/DISTRIBUTION PLOT RATING_'+j+'.png',bbox_inches='tight', dpi=200)\n",
    "    plt.clf()\n",
    "\n",
    "    return"
   ]
  },
  {
   "cell_type": "markdown",
   "metadata": {},
   "source": [
    "### DISTRIBUTION PLOT : CALL DROP CATEGORY"
   ]
  },
  {
   "cell_type": "code",
   "execution_count": 82,
   "metadata": {},
   "outputs": [],
   "source": [
    "def DISTRIBUTION_PLOT_CALL_DROP_CATEGORY(df,j,k):\n",
    "    plt.title(\"DISTRIBUTION PLOT : CALL DROP CATEGORY\",fontsize=20)\n",
    "    plt.yticks( size=20)\n",
    "    plt.xticks( size=20)\n",
    "    plt.xlabel('', size=20)\n",
    "    plt.ylabel('', size=20)\n",
    "    #sns.distplot(df['Call Drop Category'],kde=False,bins=15)\n",
    "    sns.countplot(x=\"Call Drop Category\",data=df)\n",
    "    fig2 = plt.gcf()     \n",
    "    fig2.savefig('../../plots/Pre-Processing Plots/'+k+'/DISTRIBUTION PLOT CALL DROP CATEGORY_'+j+'.png',bbox_inches='tight', dpi=200) \n",
    "    plt.clf()\n",
    "\n",
    "    return"
   ]
  },
  {
   "cell_type": "markdown",
   "metadata": {},
   "source": [
    "### DISTRIBUTION PLOT : NETWORK TYPE"
   ]
  },
  {
   "cell_type": "code",
   "execution_count": 83,
   "metadata": {},
   "outputs": [],
   "source": [
    "def DISTRIBUTION_PLOT_NETWORK_TYPE(df,j,k):\n",
    "    plt.title(\"DISTRIBUTION PLOT : NETWORK TYPE\",fontsize=20)\n",
    "    plt.yticks( size=20)\n",
    "    plt.xticks( size=20)\n",
    "    plt.xlabel('', size=20)\n",
    "    plt.ylabel('', size=20)\n",
    "    sns.countplot(x=\"Network Type\",data=df)\n",
    "    fig3 = plt.gcf()     \n",
    "    fig3.savefig('../../plots/Pre-Processing Plots/'+k+'/DISTRIBUTION PLOT NETWORK TYPE_'+j+'.png',bbox_inches='tight', dpi=200) \n",
    "    plt.clf()\n",
    "\n",
    "    return"
   ]
  },
  {
   "cell_type": "markdown",
   "metadata": {},
   "source": [
    "### DISTRIBUTION PLOT : USAGE TYPE"
   ]
  },
  {
   "cell_type": "code",
   "execution_count": 84,
   "metadata": {},
   "outputs": [],
   "source": [
    "def DISTRIBUTION_PLOT_USAGE_TYPE(df,j,k):\n",
    "    #plt.title('DISTRIBUTION PLOT : USAGE TYPE',fontsize=12)\n",
    "    plt.figure(figsize=(10,10))   \n",
    "    plt.yticks( size=10)\n",
    "    plt.xticks( size=10)\n",
    "    plt.xlabel('', size=10)\n",
    "    plt.ylabel('', size=10)\n",
    "    sns.countplot(x=\"In Out Travelling\",data=df).set_title(\"DISTRIBUTION PLOT : USAGE TYPE\")\n",
    "    fig4 = plt.gcf()    \n",
    "    fig4.savefig('../../plots/Pre-Processing Plots/'+k+'/DISTRIBUTION PLOT (USAGE TYPE)_'+j+'.png', dpi=200) \n",
    "    plt.clf()\n",
    "\n",
    "    return"
   ]
  },
  {
   "cell_type": "markdown",
   "metadata": {},
   "source": [
    "### DISTRIBUTION PLOT : STATES"
   ]
  },
  {
   "cell_type": "code",
   "execution_count": 85,
   "metadata": {},
   "outputs": [],
   "source": [
    "def DISTRIBUTION_PLOT_STATES(df,j,k):\n",
    "    plt.figure(figsize=(30,15))\n",
    "    sns.set(font_scale=1)\n",
    "    plt.yticks( size=15)\n",
    "    plt.xticks( size=15)\n",
    "    plt.xlabel('', size=15)\n",
    "    plt.ylabel('', size=15)\n",
    "    sns.countplot(y=\"State Name\",data=df).set_title(\"DISTRIBUTION PLOT : STATES\",fontsize=20)\n",
    "    fig5 = plt.gcf()     \n",
    "    fig5.savefig('../../plots/Pre-Processing Plots/'+k+'/DISTRIBUTION PLOT (STATE NAME)_'+j+'.png', dpi=200) \n",
    "    plt.clf()\n",
    "\n",
    "    return"
   ]
  },
  {
   "cell_type": "markdown",
   "metadata": {},
   "source": [
    "### DISTRIBUTION PLOT : OPERATOR"
   ]
  },
  {
   "cell_type": "code",
   "execution_count": 86,
   "metadata": {},
   "outputs": [],
   "source": [
    "def DISTRIBUTION_PLOT_OPERATOR(df,j,k):\n",
    "    plt.figure(figsize=(15,5))\n",
    "    plt.yticks( size=10)\n",
    "    plt.xticks( size=10)\n",
    "    sns.countplot(x=\"Operator\",data=df).set_title(\"DISTRIBUTION PLOT : OPERATOR\")\n",
    "    fig6 = plt.gcf()     \n",
    "    fig6.savefig('../../plots/Pre-Processing Plots/'+k+'/DISTRIBUTION PLOT (OPERATOR)_'+j+'.png', dpi=200) \n",
    "    plt.clf()\n",
    "\n",
    "    return"
   ]
  },
  {
   "cell_type": "markdown",
   "metadata": {},
   "source": [
    "### BOX PLOT : OPERATOR VS RATING"
   ]
  },
  {
   "cell_type": "code",
   "execution_count": 87,
   "metadata": {},
   "outputs": [],
   "source": [
    "def BOX_PLOT_OPERATOR_VS_RATING(df,j,k):\n",
    "    #plt.title('BOX PLOT : OPERATOR VS RATING',fontsize=55)\n",
    "    plt.figure(figsize=(15,5))\n",
    "    sns.boxplot(x=\"Operator\", y=\"Rating\", data=df,palette='rainbow').set_title('BOX PLOT : OPERATOR VS RATING')\n",
    "    fig7 = plt.gcf()     \n",
    "    fig7.savefig('../../plots/Pre-Processing Plots/'+k+'/BOX PLOT (OPERATOR VS RATING)_'+j+'.png',bbox_inches='tight', dpi=200) \n",
    "    plt.clf()\n",
    "\n",
    "    return"
   ]
  },
  {
   "cell_type": "markdown",
   "metadata": {},
   "source": [
    "### BOX PLOT : STATE NAME VS RATING"
   ]
  },
  {
   "cell_type": "code",
   "execution_count": 88,
   "metadata": {},
   "outputs": [],
   "source": [
    "def BOX_PLOT_STATE_NAME_VS_RATING(df,j,k):\n",
    "    plt.figure(figsize=(30,60))\n",
    "    plt.yticks( size=35)\n",
    "    plt.xticks( size=35)\n",
    "    plt.xlabel('', size=40)\n",
    "    plt.ylabel('', size=40)\n",
    "    sns.boxplot(x=\"Rating\", y=\"State Name\", data=df,palette='rainbow').set_title('BOX PLOT : STATE NAME VS RATING',fontsize=60)\n",
    "    fig8 = plt.gcf()     \n",
    "    fig8.savefig('../../plots/Pre-Processing Plots/'+k+'/BOX PLOT (STATE VS RATING)_'+j+'.png',bbox_inches='tight', dpi=200) \n",
    "    plt.clf()\n",
    "\n",
    "    return"
   ]
  },
  {
   "cell_type": "markdown",
   "metadata": {},
   "source": [
    "### BOX PLOT : NETWORK TYPE VS RATING"
   ]
  },
  {
   "cell_type": "code",
   "execution_count": 89,
   "metadata": {},
   "outputs": [],
   "source": [
    "def BOX_PLOT_NETWORK_TYPE_VS_RATING(df,j,k):\n",
    "    plt.figure(figsize=(10,10))\n",
    "    sns.boxplot(x=\"Network Type\", y=\"Rating\", data=df,palette='rainbow').set_title('BOX PLOT : NETWORK TYPE VS RATING')\n",
    "    fig9 = plt.gcf()     \n",
    "    fig9.savefig('../../plots/Pre-Processing Plots/'+k+'/BOX PLOT (NETWORK TYPE VS RATING)_'+j+'.png',bbox_inches='tight', dpi=200) \n",
    "    plt.clf()\n",
    "\n",
    "    return"
   ]
  },
  {
   "cell_type": "markdown",
   "metadata": {},
   "source": [
    "### BOX PLOT : USAGE TYPE VS RATING"
   ]
  },
  {
   "cell_type": "code",
   "execution_count": 90,
   "metadata": {},
   "outputs": [],
   "source": [
    "def BOX_PLOT_USAGE_TYPE_VS_RATING(df,j,k):\n",
    "    plt.title('BOX PLOT : USAGE TYPE VS RATING',fontsize=55)\n",
    "    plt.figure(figsize=(10,10))\n",
    "    sns.boxplot(x=\"In Out Travelling\", y=\"Rating\", data=df,palette='rainbow').set_title('BOX PLOT : USAGE TYPE VS RATING')\n",
    "    fig10 = plt.gcf()     \n",
    "    fig10.savefig('../../plots/Pre-Processing Plots/'+k+'/BOX PLOT (USAGE TYPE VS RATING)_'+j+'.png',bbox_inches='tight', dpi=200) \n",
    "    plt.clf()\n",
    "\n",
    "    return"
   ]
  },
  {
   "cell_type": "markdown",
   "metadata": {},
   "source": [
    "### BOX PLOT : CALL DROP CATEGORY VS RATING"
   ]
  },
  {
   "cell_type": "code",
   "execution_count": 91,
   "metadata": {},
   "outputs": [],
   "source": [
    "def BOX_PLOT_CALL_DROP_CATEGORY_VS_RATING(df,j,k):\n",
    "    plt.title('BOX PLOT : CALL DROP CATEGORY VS RATING',fontsize=55)\n",
    "    plt.figure(figsize=(10,10))\n",
    "    sns.boxplot(x=\"Call Drop Category\", y=\"Rating\", data=df,palette='rainbow').set_title('BOX PLOT : CALL DROP CATEGORY VS RATING')\n",
    "    fig11 = plt.gcf()     \n",
    "    fig11.savefig('../../plots/Pre-Processing Plots/'+k+'/BOX PLOT (CALL DROP CATEGORY VS RATING)_'+j+'.png',bbox_inches='tight', dpi=200) \n",
    "    plt.clf()\n",
    "\n",
    "    return"
   ]
  },
  {
   "cell_type": "markdown",
   "metadata": {},
   "source": [
    "  ### SCATTER PLOT : LOCATIONS WITH GOOD CALL RATINGS (RATING = 4 AND ABOVE)"
   ]
  },
  {
   "cell_type": "code",
   "execution_count": 92,
   "metadata": {},
   "outputs": [],
   "source": [
    "def SCATTER_PLOT_GOOD_CALL_RATINGS(df,j,k):\n",
    "    #plt.title('SCATTER PLOT : LOCATIONS WITH GOOD CALL RATINGS (RATING = 4 AND ABOVE)',fontsize=55)\n",
    "    df1=df.copy()\n",
    "    df1=df1[df1['Rating']>=4]   \n",
    "    df1=df1[df1['Longitude']>65]\n",
    "    df1=df1[df1['Longitude']<100]\n",
    "    df1=df1[df1['Latitude']>5]\n",
    "    df1=df1[df1['Latitude']<40]\n",
    "\n",
    "\n",
    "    plt.figure(figsize=(10,10))\n",
    "    sns.set(font_scale=2)\n",
    "    plt.yticks( size=15)\n",
    "    plt.xticks( size=15)\n",
    "    plt.xlabel('Longitude')\n",
    "    plt.ylabel('Latitude')\n",
    "    plot1=plt.scatter(df1['Longitude'],df1['Latitude'],s=5,color='black') \n",
    "    plt.title(\"SCATTER PLOT : \\nLOCATIONS WITH RATING = 4 AND ABOVE\", x=0.6, y=0.9, fontsize=12)\n",
    "\n",
    "    fig12 = plt.gcf()     \n",
    "    plt.axes().set_aspect(1)    \n",
    "    fig12.savefig('../../plots/Pre-Processing Plots/'+k+'/SCATTER PLOT LOCATIONS WITH GOOD CALL RATINGS_'+j+'.png', bbox_inches='tight',dpi=200) \n",
    "    plt.clf()\n",
    "\n",
    "    return"
   ]
  },
  {
   "cell_type": "markdown",
   "metadata": {},
   "source": [
    "  ### BAR PLOT : OPERATOR VS RATINGS (WITH NETWORK TYPE SPECIFIED)"
   ]
  },
  {
   "cell_type": "code",
   "execution_count": 93,
   "metadata": {},
   "outputs": [],
   "source": [
    "def BAR_PLOT_OPERATOR_VS_RATINGS_WITH_NETWORK_TYPE(df,j,k):\n",
    "    \n",
    "    plt.figure(figsize=(40,20))\n",
    "    sns.set(font_scale=3)\n",
    "    plt.yticks( size=25)\n",
    "    plt.xticks( size=30)\n",
    "    sns.barplot(x='Operator',y='Rating',hue='Network Type', data=df,).set_title(\"BAR PLOT : OPERATOR VS RATINGS (WITH NETWORK TYPE SPECIFIED)\")\n",
    "    fig13 = plt.gcf()\n",
    "    fig13.savefig('../../plots/Pre-Processing Plots/'+k+'/BAR PLOT_OPERATOR VS RATINGS (WITH NETWORK TYPE SPECIFIED)_'+j+'.png',bbox_inches='tight', dpi=200)\n",
    "    plt.clf()\n",
    "\n",
    "    return"
   ]
  },
  {
   "cell_type": "markdown",
   "metadata": {},
   "source": [
    "  ### BAR PLOT : OPERATOR VS CALL DROP CATEGORY (WITH NETWORK TYPE SPECIFIED)"
   ]
  },
  {
   "cell_type": "code",
   "execution_count": 94,
   "metadata": {},
   "outputs": [],
   "source": [
    "def BAR_PLOT_OPERATOR_VS_CALL_DROP_CATEGORY_WITH_NETWORK_TYPE(df,j,k):\n",
    "    plt.figure(figsize=(40,20))\n",
    "    sns.set(font_scale=3)\n",
    "    plt.yticks( size=25)\n",
    "    plt.xticks( size=30)\n",
    "    sns.barplot(x='Operator',y='Call Drop Category',hue='Network Type', data=df).set_title('BAR PLOT : OPERATOR VS CALL DROP CATEGORY (WITH NETWORK TYPE SPECIFIED)')\n",
    "    fig14 = plt.gcf()\n",
    "    fig14.savefig('../plots/Pre-Processing Plots/'+k+'/BAR PLOT_OPERATOR VS CALL DROP CATEGORY (WITH NETWORK TYPE SPECIFIED)_'+j+'.png',bbox_inches='tight', dpi=200)\n",
    "    plt.clf()\n",
    "\n",
    "    return"
   ]
  },
  {
   "cell_type": "markdown",
   "metadata": {},
   "source": [
    "  ### BAR PLOT : OPERATOR VS OVERALL RATINGS "
   ]
  },
  {
   "cell_type": "code",
   "execution_count": 95,
   "metadata": {},
   "outputs": [],
   "source": [
    "def BAR_PLOT_OPERATOR_VS_OVERALL_RATINGS(df,j,k):\n",
    "    plt.figure(figsize=(40,20))\n",
    "    sns.set(font_scale=3)\n",
    "    plt.yticks( size=25)\n",
    "    plt.xticks( size=30)\n",
    "    result = df.groupby([\"Operator\"])['Rating'].aggregate(np.mean).reset_index().sort_values('Rating')\n",
    "    sns.barplot(x='Operator',y='Rating', data=result, order=result['Operator']).set_title('BAR PLOT : OPERATOR VS OVERALL RATINGS')\n",
    "    fig15 = plt.gcf()\n",
    "    fig15.savefig('../plots/Pre-Processing Plots/'+k+'/BAR PLOT_OPERATOR VS OVERALL RATINGS_'+j+'.png',bbox_inches='tight', dpi=200)\n",
    "    plt.clf()\n",
    "\n",
    "    return"
   ]
  },
  {
   "cell_type": "markdown",
   "metadata": {},
   "source": [
    "  ### BAR PLOT : OPERATOR VS OVERALL CALL DROP CATEGORY "
   ]
  },
  {
   "cell_type": "code",
   "execution_count": 96,
   "metadata": {},
   "outputs": [],
   "source": [
    "def BAR_PLOT_OPERATOR_VS_OVERALL_CALL_DROP_CATEGORY(df,j,k):\n",
    "    plt.figure(figsize=(40,20))\n",
    "    sns.set(font_scale=3)\n",
    "    plt.yticks( size=25)\n",
    "    plt.xticks( size=30)\n",
    "    result = df.groupby([\"Operator\"])['Call Drop Category'].aggregate(np.mean).reset_index().sort_values('Call Drop Category')\n",
    "    sns.barplot(x='Operator',y='Call Drop Category', data=result, order=result['Operator']).set_title('BAR PLOT : OPERATOR VS OVERALL CALL DROP CATEGORY')\n",
    "    fig15 = plt.gcf()\n",
    "    fig16 = plt.gcf()\n",
    "    fig16.savefig('../plots/Pre-Processing Plots/'+k+'/BAR PLOT_OPERATOR VS OVERALL CALL DROP CATEGORY_'+j+'.png',bbox_inches='tight', dpi=200)\n",
    "    plt.clf()\n",
    "\n",
    "    return"
   ]
  },
  {
   "cell_type": "markdown",
   "metadata": {},
   "source": [
    "### HEAT MAP : STATE VS OPERATOR BASED ON RATING"
   ]
  },
  {
   "cell_type": "code",
   "execution_count": 97,
   "metadata": {},
   "outputs": [],
   "source": [
    "def HEAT_MAP_STATE_VS_OPERATOR_BASED_ON_RATING(df,j,k):\n",
    "    mosaic_plot= df.pivot_table(values='Rating',index='State Name',columns='Operator')\n",
    "    sns.set(font_scale=3)\n",
    "    plt.figure(figsize=(40,20))\n",
    "    plt.yticks( size=25)\n",
    "    plt.xticks( size=30)\n",
    "    sns.heatmap(mosaic_plot,cmap='BuPu',linecolor='white',linewidths=.1,square=False).set_title('HEAT MAP : STATE VS OPERATOR BASED ON RATING')\n",
    "    fig17 = plt.gcf()\n",
    "    fig17.savefig('../plots/Pre-Processing Plots/'+k+'/HEAT MAP_STATE VS OPERATOR BASED ON RATING_'+j+'.png',bbox_inches='tight', dpi=200)\n",
    "    plt.clf()\n",
    "\n",
    "    return"
   ]
  },
  {
   "cell_type": "markdown",
   "metadata": {},
   "source": [
    "### HEAT MAP : STATE VS OPERATOR BASED ON CALL DROP CATEGORY"
   ]
  },
  {
   "cell_type": "code",
   "execution_count": 98,
   "metadata": {},
   "outputs": [],
   "source": [
    "def HEAT_MAP_STATE_VS_OPERATOR_BASED_ON_CALL_DROP_CATEGORY(df,j,k):\n",
    "    mosaic_plot= df.pivot_table(values='Call Drop Category',index='State Name',columns='Operator')\n",
    "    sns.set(font_scale=3)\n",
    "    plt.figure(figsize=(40,20))\n",
    "    plt.yticks( size=25)\n",
    "    plt.xticks( size=30)\n",
    "    sns.heatmap(mosaic_plot,linecolor='white',linewidth=.1,cmap='Blues').set_title('HEAT MAP : STATE VS OPERATOR BASED ON CALL DROP CATEGORY')\n",
    "    fig18 = plt.gcf()\n",
    "    fig18.savefig('../plots/Pre-Processing Plots/'+k+'/HEAT MAP_STATE VS OPERATOR BASED ON CALL DROP CATEGORY_'+j+'.png',bbox_inches='tight', dpi=200)\n",
    "    plt.clf()\n",
    "\n",
    "    return"
   ]
  },
  {
   "cell_type": "markdown",
   "metadata": {},
   "source": [
    "### HEAT MAP : OPERATOR VS USAGE TYPE (IN/OUT/TRAVELLING) BASED ON RATING"
   ]
  },
  {
   "cell_type": "code",
   "execution_count": 99,
   "metadata": {},
   "outputs": [],
   "source": [
    "def HEAT_MAP_OPERATOR_VS_USAGE_TYPE_BASED_ON_RATING(df,j,k):\n",
    "    mosaic_plot= df.pivot_table(values='Rating',index='Operator',columns='In Out Travelling')\n",
    "    sns.set(font_scale=1)\n",
    "    plt.figure(figsize=(15,10))\n",
    "    sns.heatmap(mosaic_plot,linecolor='white',linewidth=.1).set_title('HEAT MAP : OPERATOR VS USAGE TYPE (IN/OUT/TRAVELLING) BASED ON RATING')\n",
    "    fig19 = plt.gcf()\n",
    "    fig19.savefig('../plots/Pre-Processing Plots/'+k+'/HEAT MAP_OPERATOR VS USAGE TYPE BASED ON RATING_'+j+'.png',bbox_inches='tight', dpi=200)\n",
    "    plt.clf()\n",
    "\n",
    "    return"
   ]
  },
  {
   "cell_type": "markdown",
   "metadata": {},
   "source": [
    "### HEAT MAP : OPERATOR VS USAGE TYPE (IN/OUT/TRAVELLING) BASED ON CALL DROP CATEGORY"
   ]
  },
  {
   "cell_type": "code",
   "execution_count": 100,
   "metadata": {},
   "outputs": [],
   "source": [
    "def HEAT_MAP_OPERATOR_VS_USAGE_TYPE_BASED_ON_CALL_DROP_CATEGORY(df,j,k):\n",
    "    mosaic_plot= df.pivot_table(values='Call Drop Category',index='Operator',columns='In Out Travelling')\n",
    "    sns.set(font_scale=1)\n",
    "    plt.figure(figsize=(15,10))\n",
    "    sns.heatmap(mosaic_plot,linecolor='white',linewidth=.1).set_title('HEAT MAP : OPERATOR VS USAGE TYPE (IN/OUT/TRAVELLING) BASED ON CALL DROP CATEGORY')\n",
    "    fig20 = plt.gcf()\n",
    "    fig20.savefig('../plots/Pre-Processing Plots/'+k+'/HEAT MAP_OPERATOR VS USAGE TYPE BASED ON CALL DROP CATEGORY_'+j+'.png',bbox_inches='tight', dpi=200)\n",
    "    plt.clf()\n",
    "\n",
    "    return"
   ]
  },
  {
   "cell_type": "markdown",
   "metadata": {},
   "source": [
    "### BAR PLOT : STATE VS RATING"
   ]
  },
  {
   "cell_type": "code",
   "execution_count": 101,
   "metadata": {},
   "outputs": [],
   "source": [
    "def BAR_PLOT_STATE_VS_RATING(df,j,k):\n",
    "    plt.figure(figsize=(50,20))\n",
    "    plt.yticks( size=25)\n",
    "    plt.xticks( size=30)\n",
    "    plt.xlabel('Rating', size=40)\n",
    "    plt.ylabel('State Name', size=40)\n",
    "    result = df.groupby([\"State Name\"])['Rating'].aggregate(np.mean).reset_index().sort_values('Rating')\n",
    "    sns.barplot(x='Rating',y='State Name', data=result,order=result['State Name']).set_title('BAR PLOT : STATE VS RATING',fontsize=40)\n",
    "    fig21 = plt.gcf()\n",
    "    fig21.savefig('../plots/Pre-Processing Plots/'+k+'/BAR PLOT_STATE VS RATING_'+j+'.png',bbox_inches='tight', dpi=200)\n",
    "    plt.clf()\n",
    "\n",
    "    return"
   ]
  },
  {
   "cell_type": "markdown",
   "metadata": {},
   "source": [
    "### BAR PLOT : STATE VS CALL DROP CATEGORY"
   ]
  },
  {
   "cell_type": "code",
   "execution_count": 102,
   "metadata": {},
   "outputs": [],
   "source": [
    "def BAR_PLOT_STATE_VS_CALL_DROP_CATEGORY(df,j,k):\n",
    "    plt.figure(figsize=(50,20))\n",
    "    plt.yticks( size=25)\n",
    "    plt.xticks( size=30)\n",
    "    plt.xlabel('Rating', size=40)\n",
    "    plt.ylabel('State Name', size=40)\n",
    "    result = df.groupby([\"State Name\"])['Call Drop Category'].aggregate(np.mean).reset_index().sort_values('Call Drop Category')\n",
    "    sns.barplot(x='Call Drop Category',y='State Name', data=result, order=result['State Name']).set_title('BAR PLOT : STATE VS CALL DROP CATEGORY',fontsize=40)\n",
    "    fig22 = plt.gcf()\n",
    "    fig22.savefig('../plots/Pre-Processing Plots/'+k+'/BAR PLOT_STATE VS CALL DROP CATEGORY_'+j+'.png',bbox_inches='tight', dpi=200)\n",
    "    plt.clf()\n",
    "\n",
    "    return"
   ]
  },
  {
   "cell_type": "markdown",
   "metadata": {},
   "source": [
    "### HEAT MAP : CORRELATION PLOT"
   ]
  },
  {
   "cell_type": "code",
   "execution_count": 103,
   "metadata": {},
   "outputs": [],
   "source": [
    "def HEAT_MAP_CORRELATION_PLOT(df,j,k):\n",
    "    plt.yticks( size=50)\n",
    "    plt.xticks( size=50)\n",
    "    plt.xlabel('', size=50)\n",
    "    plt.ylabel('', size=50)\n",
    "    sns.set(font_scale=2)\n",
    "    dfCorr=df.copy()\n",
    "    dfCorr.drop(columns=['Operator','In Out Travelling', 'Latitude','Longitude','State Name'])\n",
    "    sns.heatmap(dfCorr.corr(),cmap=\"Greens\").set_title('HEAT MAP : CORRELATION PLOT',fontsize=40)\n",
    "    fig23 = plt.gcf()\n",
    "    fig23.savefig('../plots/Pre-Processing Plots/'+k+'/HEAT MAP_CORRELATION PLOT_'+j+'.png',bbox_inches='tight', dpi=200)\n",
    "    plt.clf()\n",
    "\n",
    "    return"
   ]
  },
  {
   "cell_type": "markdown",
   "metadata": {},
   "source": [
    "### MAIN LOOP TO PLOT FOR ALL MONTHS"
   ]
  },
  {
   "cell_type": "code",
   "execution_count": 104,
   "metadata": {},
   "outputs": [
    {
     "ename": "FileNotFoundError",
     "evalue": "[Errno 2] No such file or directory: '../plots/Pre-Processing Plots/May 2018/DISTRIBUTION PLOT RATING_May 2018.png'",
     "output_type": "error",
     "traceback": [
      "\u001b[0;31m---------------------------------------------------------------------------\u001b[0m",
      "\u001b[0;31mFileNotFoundError\u001b[0m                         Traceback (most recent call last)",
      "\u001b[0;32m<ipython-input-104-adbade6ea7f0>\u001b[0m in \u001b[0;36m<module>\u001b[0;34m\u001b[0m\n\u001b[1;32m      4\u001b[0m     \u001b[0mfile2\u001b[0m\u001b[0;34m=\u001b[0m\u001b[0mmonth\u001b[0m\u001b[0;34m[\u001b[0m\u001b[0mj\u001b[0m\u001b[0;34m]\u001b[0m\u001b[0;34m\u001b[0m\u001b[0;34m\u001b[0m\u001b[0m\n\u001b[1;32m      5\u001b[0m     \u001b[0mfile\u001b[0m\u001b[0;34m=\u001b[0m\u001b[0mfile2\u001b[0m\u001b[0;34m\u001b[0m\u001b[0;34m\u001b[0m\u001b[0m\n\u001b[0;32m----> 6\u001b[0;31m     \u001b[0mDISTRIBUTION_PLOT_RATING\u001b[0m\u001b[0;34m(\u001b[0m\u001b[0mdf\u001b[0m\u001b[0;34m,\u001b[0m\u001b[0mfile\u001b[0m\u001b[0;34m,\u001b[0m\u001b[0mfile2\u001b[0m\u001b[0;34m)\u001b[0m\u001b[0;34m\u001b[0m\u001b[0;34m\u001b[0m\u001b[0m\n\u001b[0m\u001b[1;32m      7\u001b[0m     \u001b[0mDISTRIBUTION_PLOT_CALL_DROP_CATEGORY\u001b[0m\u001b[0;34m(\u001b[0m\u001b[0mdf\u001b[0m\u001b[0;34m,\u001b[0m\u001b[0mfile\u001b[0m\u001b[0;34m,\u001b[0m\u001b[0mfile2\u001b[0m\u001b[0;34m)\u001b[0m\u001b[0;34m\u001b[0m\u001b[0;34m\u001b[0m\u001b[0m\n\u001b[1;32m      8\u001b[0m     \u001b[0mDISTRIBUTION_PLOT_NETWORK_TYPE\u001b[0m\u001b[0;34m(\u001b[0m\u001b[0mdf\u001b[0m\u001b[0;34m,\u001b[0m\u001b[0mfile\u001b[0m\u001b[0;34m,\u001b[0m\u001b[0mfile2\u001b[0m\u001b[0;34m)\u001b[0m\u001b[0;34m\u001b[0m\u001b[0;34m\u001b[0m\u001b[0m\n",
      "\u001b[0;32m<ipython-input-81-afd0af75a308>\u001b[0m in \u001b[0;36mDISTRIBUTION_PLOT_RATING\u001b[0;34m(df, j, k)\u001b[0m\n\u001b[1;32m      9\u001b[0m \u001b[0;34m\u001b[0m\u001b[0m\n\u001b[1;32m     10\u001b[0m     \u001b[0mfig1\u001b[0m \u001b[0;34m=\u001b[0m \u001b[0mplt\u001b[0m\u001b[0;34m.\u001b[0m\u001b[0mgcf\u001b[0m\u001b[0;34m(\u001b[0m\u001b[0;34m)\u001b[0m\u001b[0;34m\u001b[0m\u001b[0;34m\u001b[0m\u001b[0m\n\u001b[0;32m---> 11\u001b[0;31m     \u001b[0mfig1\u001b[0m\u001b[0;34m.\u001b[0m\u001b[0msavefig\u001b[0m\u001b[0;34m(\u001b[0m\u001b[0;34m'../plots/Pre-Processing Plots/'\u001b[0m\u001b[0;34m+\u001b[0m\u001b[0mk\u001b[0m\u001b[0;34m+\u001b[0m\u001b[0;34m'/DISTRIBUTION PLOT RATING_'\u001b[0m\u001b[0;34m+\u001b[0m\u001b[0mj\u001b[0m\u001b[0;34m+\u001b[0m\u001b[0;34m'.png'\u001b[0m\u001b[0;34m,\u001b[0m\u001b[0mbbox_inches\u001b[0m\u001b[0;34m=\u001b[0m\u001b[0;34m'tight'\u001b[0m\u001b[0;34m,\u001b[0m \u001b[0mdpi\u001b[0m\u001b[0;34m=\u001b[0m\u001b[0;36m200\u001b[0m\u001b[0;34m)\u001b[0m\u001b[0;34m\u001b[0m\u001b[0;34m\u001b[0m\u001b[0m\n\u001b[0m\u001b[1;32m     12\u001b[0m     \u001b[0mplt\u001b[0m\u001b[0;34m.\u001b[0m\u001b[0mclf\u001b[0m\u001b[0;34m(\u001b[0m\u001b[0;34m)\u001b[0m\u001b[0;34m\u001b[0m\u001b[0;34m\u001b[0m\u001b[0m\n\u001b[1;32m     13\u001b[0m \u001b[0;34m\u001b[0m\u001b[0m\n",
      "\u001b[0;32m~/opt/anaconda3/lib/python3.7/site-packages/matplotlib/figure.py\u001b[0m in \u001b[0;36msavefig\u001b[0;34m(self, fname, transparent, **kwargs)\u001b[0m\n\u001b[1;32m   2178\u001b[0m             \u001b[0mself\u001b[0m\u001b[0;34m.\u001b[0m\u001b[0mpatch\u001b[0m\u001b[0;34m.\u001b[0m\u001b[0mset_visible\u001b[0m\u001b[0;34m(\u001b[0m\u001b[0mframeon\u001b[0m\u001b[0;34m)\u001b[0m\u001b[0;34m\u001b[0m\u001b[0;34m\u001b[0m\u001b[0m\n\u001b[1;32m   2179\u001b[0m \u001b[0;34m\u001b[0m\u001b[0m\n\u001b[0;32m-> 2180\u001b[0;31m         \u001b[0mself\u001b[0m\u001b[0;34m.\u001b[0m\u001b[0mcanvas\u001b[0m\u001b[0;34m.\u001b[0m\u001b[0mprint_figure\u001b[0m\u001b[0;34m(\u001b[0m\u001b[0mfname\u001b[0m\u001b[0;34m,\u001b[0m \u001b[0;34m**\u001b[0m\u001b[0mkwargs\u001b[0m\u001b[0;34m)\u001b[0m\u001b[0;34m\u001b[0m\u001b[0;34m\u001b[0m\u001b[0m\n\u001b[0m\u001b[1;32m   2181\u001b[0m \u001b[0;34m\u001b[0m\u001b[0m\n\u001b[1;32m   2182\u001b[0m         \u001b[0;32mif\u001b[0m \u001b[0mframeon\u001b[0m\u001b[0;34m:\u001b[0m\u001b[0;34m\u001b[0m\u001b[0;34m\u001b[0m\u001b[0m\n",
      "\u001b[0;32m~/opt/anaconda3/lib/python3.7/site-packages/matplotlib/backend_bases.py\u001b[0m in \u001b[0;36mprint_figure\u001b[0;34m(self, filename, dpi, facecolor, edgecolor, orientation, format, bbox_inches, **kwargs)\u001b[0m\n\u001b[1;32m   2089\u001b[0m                     \u001b[0morientation\u001b[0m\u001b[0;34m=\u001b[0m\u001b[0morientation\u001b[0m\u001b[0;34m,\u001b[0m\u001b[0;34m\u001b[0m\u001b[0;34m\u001b[0m\u001b[0m\n\u001b[1;32m   2090\u001b[0m                     \u001b[0mbbox_inches_restore\u001b[0m\u001b[0;34m=\u001b[0m\u001b[0m_bbox_inches_restore\u001b[0m\u001b[0;34m,\u001b[0m\u001b[0;34m\u001b[0m\u001b[0;34m\u001b[0m\u001b[0m\n\u001b[0;32m-> 2091\u001b[0;31m                     **kwargs)\n\u001b[0m\u001b[1;32m   2092\u001b[0m             \u001b[0;32mfinally\u001b[0m\u001b[0;34m:\u001b[0m\u001b[0;34m\u001b[0m\u001b[0;34m\u001b[0m\u001b[0m\n\u001b[1;32m   2093\u001b[0m                 \u001b[0;32mif\u001b[0m \u001b[0mbbox_inches\u001b[0m \u001b[0;32mand\u001b[0m \u001b[0mrestore_bbox\u001b[0m\u001b[0;34m:\u001b[0m\u001b[0;34m\u001b[0m\u001b[0;34m\u001b[0m\u001b[0m\n",
      "\u001b[0;32m~/opt/anaconda3/lib/python3.7/site-packages/matplotlib/backends/backend_agg.py\u001b[0m in \u001b[0;36mprint_png\u001b[0;34m(self, filename_or_obj, metadata, pil_kwargs, *args, **kwargs)\u001b[0m\n\u001b[1;32m    528\u001b[0m             \u001b[0mrenderer\u001b[0m \u001b[0;34m=\u001b[0m \u001b[0mself\u001b[0m\u001b[0;34m.\u001b[0m\u001b[0mget_renderer\u001b[0m\u001b[0;34m(\u001b[0m\u001b[0;34m)\u001b[0m\u001b[0;34m\u001b[0m\u001b[0;34m\u001b[0m\u001b[0m\n\u001b[1;32m    529\u001b[0m             \u001b[0;32mwith\u001b[0m \u001b[0mcbook\u001b[0m\u001b[0;34m.\u001b[0m\u001b[0m_setattr_cm\u001b[0m\u001b[0;34m(\u001b[0m\u001b[0mrenderer\u001b[0m\u001b[0;34m,\u001b[0m \u001b[0mdpi\u001b[0m\u001b[0;34m=\u001b[0m\u001b[0mself\u001b[0m\u001b[0;34m.\u001b[0m\u001b[0mfigure\u001b[0m\u001b[0;34m.\u001b[0m\u001b[0mdpi\u001b[0m\u001b[0;34m)\u001b[0m\u001b[0;34m,\u001b[0m\u001b[0;31m \u001b[0m\u001b[0;31m\\\u001b[0m\u001b[0;34m\u001b[0m\u001b[0;34m\u001b[0m\u001b[0m\n\u001b[0;32m--> 530\u001b[0;31m                     \u001b[0mcbook\u001b[0m\u001b[0;34m.\u001b[0m\u001b[0mopen_file_cm\u001b[0m\u001b[0;34m(\u001b[0m\u001b[0mfilename_or_obj\u001b[0m\u001b[0;34m,\u001b[0m \u001b[0;34m\"wb\"\u001b[0m\u001b[0;34m)\u001b[0m \u001b[0;32mas\u001b[0m \u001b[0mfh\u001b[0m\u001b[0;34m:\u001b[0m\u001b[0;34m\u001b[0m\u001b[0;34m\u001b[0m\u001b[0m\n\u001b[0m\u001b[1;32m    531\u001b[0m                 _png.write_png(renderer._renderer, fh,\n\u001b[1;32m    532\u001b[0m                                self.figure.dpi, metadata=metadata)\n",
      "\u001b[0;32m~/opt/anaconda3/lib/python3.7/contextlib.py\u001b[0m in \u001b[0;36m__enter__\u001b[0;34m(self)\u001b[0m\n\u001b[1;32m    110\u001b[0m         \u001b[0;32mdel\u001b[0m \u001b[0mself\u001b[0m\u001b[0;34m.\u001b[0m\u001b[0margs\u001b[0m\u001b[0;34m,\u001b[0m \u001b[0mself\u001b[0m\u001b[0;34m.\u001b[0m\u001b[0mkwds\u001b[0m\u001b[0;34m,\u001b[0m \u001b[0mself\u001b[0m\u001b[0;34m.\u001b[0m\u001b[0mfunc\u001b[0m\u001b[0;34m\u001b[0m\u001b[0;34m\u001b[0m\u001b[0m\n\u001b[1;32m    111\u001b[0m         \u001b[0;32mtry\u001b[0m\u001b[0;34m:\u001b[0m\u001b[0;34m\u001b[0m\u001b[0;34m\u001b[0m\u001b[0m\n\u001b[0;32m--> 112\u001b[0;31m             \u001b[0;32mreturn\u001b[0m \u001b[0mnext\u001b[0m\u001b[0;34m(\u001b[0m\u001b[0mself\u001b[0m\u001b[0;34m.\u001b[0m\u001b[0mgen\u001b[0m\u001b[0;34m)\u001b[0m\u001b[0;34m\u001b[0m\u001b[0;34m\u001b[0m\u001b[0m\n\u001b[0m\u001b[1;32m    113\u001b[0m         \u001b[0;32mexcept\u001b[0m \u001b[0mStopIteration\u001b[0m\u001b[0;34m:\u001b[0m\u001b[0;34m\u001b[0m\u001b[0;34m\u001b[0m\u001b[0m\n\u001b[1;32m    114\u001b[0m             \u001b[0;32mraise\u001b[0m \u001b[0mRuntimeError\u001b[0m\u001b[0;34m(\u001b[0m\u001b[0;34m\"generator didn't yield\"\u001b[0m\u001b[0;34m)\u001b[0m \u001b[0;32mfrom\u001b[0m \u001b[0;32mNone\u001b[0m\u001b[0;34m\u001b[0m\u001b[0;34m\u001b[0m\u001b[0m\n",
      "\u001b[0;32m~/opt/anaconda3/lib/python3.7/site-packages/matplotlib/cbook/__init__.py\u001b[0m in \u001b[0;36mopen_file_cm\u001b[0;34m(path_or_file, mode, encoding)\u001b[0m\n\u001b[1;32m    445\u001b[0m \u001b[0;32mdef\u001b[0m \u001b[0mopen_file_cm\u001b[0m\u001b[0;34m(\u001b[0m\u001b[0mpath_or_file\u001b[0m\u001b[0;34m,\u001b[0m \u001b[0mmode\u001b[0m\u001b[0;34m=\u001b[0m\u001b[0;34m\"r\"\u001b[0m\u001b[0;34m,\u001b[0m \u001b[0mencoding\u001b[0m\u001b[0;34m=\u001b[0m\u001b[0;32mNone\u001b[0m\u001b[0;34m)\u001b[0m\u001b[0;34m:\u001b[0m\u001b[0;34m\u001b[0m\u001b[0;34m\u001b[0m\u001b[0m\n\u001b[1;32m    446\u001b[0m     \u001b[0;34mr\"\"\"Pass through file objects and context-manage `.PathLike`\\s.\"\"\"\u001b[0m\u001b[0;34m\u001b[0m\u001b[0;34m\u001b[0m\u001b[0m\n\u001b[0;32m--> 447\u001b[0;31m     \u001b[0mfh\u001b[0m\u001b[0;34m,\u001b[0m \u001b[0mopened\u001b[0m \u001b[0;34m=\u001b[0m \u001b[0mto_filehandle\u001b[0m\u001b[0;34m(\u001b[0m\u001b[0mpath_or_file\u001b[0m\u001b[0;34m,\u001b[0m \u001b[0mmode\u001b[0m\u001b[0;34m,\u001b[0m \u001b[0;32mTrue\u001b[0m\u001b[0;34m,\u001b[0m \u001b[0mencoding\u001b[0m\u001b[0;34m)\u001b[0m\u001b[0;34m\u001b[0m\u001b[0;34m\u001b[0m\u001b[0m\n\u001b[0m\u001b[1;32m    448\u001b[0m     \u001b[0;32mif\u001b[0m \u001b[0mopened\u001b[0m\u001b[0;34m:\u001b[0m\u001b[0;34m\u001b[0m\u001b[0;34m\u001b[0m\u001b[0m\n\u001b[1;32m    449\u001b[0m         \u001b[0;32mwith\u001b[0m \u001b[0mfh\u001b[0m\u001b[0;34m:\u001b[0m\u001b[0;34m\u001b[0m\u001b[0;34m\u001b[0m\u001b[0m\n",
      "\u001b[0;32m~/opt/anaconda3/lib/python3.7/site-packages/matplotlib/cbook/__init__.py\u001b[0m in \u001b[0;36mto_filehandle\u001b[0;34m(fname, flag, return_opened, encoding)\u001b[0m\n\u001b[1;32m    430\u001b[0m             \u001b[0mfh\u001b[0m \u001b[0;34m=\u001b[0m \u001b[0mbz2\u001b[0m\u001b[0;34m.\u001b[0m\u001b[0mBZ2File\u001b[0m\u001b[0;34m(\u001b[0m\u001b[0mfname\u001b[0m\u001b[0;34m,\u001b[0m \u001b[0mflag\u001b[0m\u001b[0;34m)\u001b[0m\u001b[0;34m\u001b[0m\u001b[0;34m\u001b[0m\u001b[0m\n\u001b[1;32m    431\u001b[0m         \u001b[0;32melse\u001b[0m\u001b[0;34m:\u001b[0m\u001b[0;34m\u001b[0m\u001b[0;34m\u001b[0m\u001b[0m\n\u001b[0;32m--> 432\u001b[0;31m             \u001b[0mfh\u001b[0m \u001b[0;34m=\u001b[0m \u001b[0mopen\u001b[0m\u001b[0;34m(\u001b[0m\u001b[0mfname\u001b[0m\u001b[0;34m,\u001b[0m \u001b[0mflag\u001b[0m\u001b[0;34m,\u001b[0m \u001b[0mencoding\u001b[0m\u001b[0;34m=\u001b[0m\u001b[0mencoding\u001b[0m\u001b[0;34m)\u001b[0m\u001b[0;34m\u001b[0m\u001b[0;34m\u001b[0m\u001b[0m\n\u001b[0m\u001b[1;32m    433\u001b[0m         \u001b[0mopened\u001b[0m \u001b[0;34m=\u001b[0m \u001b[0;32mTrue\u001b[0m\u001b[0;34m\u001b[0m\u001b[0;34m\u001b[0m\u001b[0m\n\u001b[1;32m    434\u001b[0m     \u001b[0;32melif\u001b[0m \u001b[0mhasattr\u001b[0m\u001b[0;34m(\u001b[0m\u001b[0mfname\u001b[0m\u001b[0;34m,\u001b[0m \u001b[0;34m'seek'\u001b[0m\u001b[0;34m)\u001b[0m\u001b[0;34m:\u001b[0m\u001b[0;34m\u001b[0m\u001b[0;34m\u001b[0m\u001b[0m\n",
      "\u001b[0;31mFileNotFoundError\u001b[0m: [Errno 2] No such file or directory: '../plots/Pre-Processing Plots/May 2018/DISTRIBUTION PLOT RATING_May 2018.png'"
     ]
    },
    {
     "data": {
      "image/png": "[encoded data removed]",
      "text/plain": [
       "<Figure size 432x288 with 1 Axes>"
      ]
     },
     "metadata": {
      "needs_background": "light"
     },
     "output_type": "display_data"
    }
   ],
   "source": [
    "for j in range(len(addresses)):\n",
    "    file_name=addresses[j]\n",
    "    df = pd.read_csv(file_name+'.csv')\n",
    "    file2=month[j]\n",
    "    file=file2\n",
    "    DISTRIBUTION_PLOT_RATING(df,file,file2)\n",
    "    DISTRIBUTION_PLOT_CALL_DROP_CATEGORY(df,file,file2)\n",
    "    DISTRIBUTION_PLOT_NETWORK_TYPE(df,file,file2)\n",
    "    DISTRIBUTION_PLOT_USAGE_TYPE(df,file,file2)\n",
    "    DISTRIBUTION_PLOT_STATES(df,file,file2)\n",
    "    DISTRIBUTION_PLOT_USAGE_TYPE(df,file,file2)\n",
    "    DISTRIBUTION_PLOT_OPERATOR(df,file,file2)\n",
    "    BOX_PLOT_OPERATOR_VS_RATING(df,file,file2)\n",
    "    BOX_PLOT_STATE_NAME_VS_RATING(df,file,file2)\n",
    "    BOX_PLOT_NETWORK_TYPE_VS_RATING(df,file,file2)\n",
    "    BOX_PLOT_USAGE_TYPE_VS_RATING(df,file,file2)\n",
    "    BOX_PLOT_CALL_DROP_CATEGORY_VS_RATING(df,file,file2)\n",
    "    SCATTER_PLOT_GOOD_CALL_RATINGS(df,file,file2)\n",
    "    BAR_PLOT_OPERATOR_VS_RATINGS_WITH_NETWORK_TYPE(df,file,file2)\n",
    "    BAR_PLOT_OPERATOR_VS_CALL_DROP_CATEGORY_WITH_NETWORK_TYPE(df,file,file2)\n",
    "    BAR_PLOT_OPERATOR_VS_OVERALL_RATINGS(df,file,file2)\n",
    "    BAR_PLOT_OPERATOR_VS_OVERALL_CALL_DROP_CATEGORY(df,file,file2)\n",
    "    HEAT_MAP_STATE_VS_OPERATOR_BASED_ON_RATING(df,file,file2)\n",
    "    HEAT_MAP_STATE_VS_OPERATOR_BASED_ON_CALL_DROP_CATEGORY(df,file,file2)\n",
    "    HEAT_MAP_OPERATOR_VS_USAGE_TYPE_BASED_ON_RATING(df,file,file2)\n",
    "    HEAT_MAP_OPERATOR_VS_USAGE_TYPE_BASED_ON_CALL_DROP_CATEGORY(df,file,file2)\n",
    "    BAR_PLOT_STATE_VS_RATING(df,file,file2)\n",
    "    BAR_PLOT_STATE_VS_CALL_DROP_CATEGORY(df,file,file2)\n",
    "    HEAT_MAP_CORRELATION_PLOT(df,file,file2)"
   ]
  },
  {
   "cell_type": "code",
   "execution_count": null,
   "metadata": {},
   "outputs": [],
   "source": []
  }
 ],
 "metadata": {
  "kernelspec": {
   "display_name": "Python 3",
   "language": "python",
   "name": "python3"
  },
  "language_info": {
   "codemirror_mode": {
    "name": "ipython",
    "version": 3
   },
   "file_extension": ".py",
   "mimetype": "text/x-python",
   "name": "python",
   "nbconvert_exporter": "python",
   "pygments_lexer": "ipython3",
   "version": "3.7.6"
  }
 },
 "nbformat": 4,
 "nbformat_minor": 2
}
