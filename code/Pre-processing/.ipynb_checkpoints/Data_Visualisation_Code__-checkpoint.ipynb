{
 "cells": [
  {
   "cell_type": "markdown",
   "metadata": {},
   "source": [
    "# DATA VISUALISATION"
   ]
  },
  {
   "cell_type": "code",
   "execution_count": 27,
   "metadata": {},
   "outputs": [],
   "source": [
    "import numpy as np\n",
    "import pandas as pd\n",
    "import os\n",
    "import matplotlib.pyplot as plt\n",
    "import seaborn as sns\n",
    "%matplotlib inline"
   ]
  },
  {
   "cell_type": "markdown",
   "metadata": {},
   "source": [
    "### MONTHLY DATA ADDRESS LIST"
   ]
  },
  {
   "cell_type": "code",
   "execution_count": 28,
   "metadata": {},
   "outputs": [],
   "source": [
    "addresses = [r\"../data/May 2018/Cleaned_and_Encoded_Data_Set_May_2018\"\n",
    "           ,r\"../data/November 2018/Cleaned_and_Encoded_Data_Set_November_2018\"\n",
    "           ,r\"../data/October 2018/Cleaned_and_Encoded_Data_Set_October_2018\"\n",
    "           ,r\"../data/September 2018/Cleaned_and_Encoded_Data_Set_September_2018\"\n",
    "           ,r\"../data/April 2018/Cleaned_and_Encoded_Data_Set_April_2018\"\n",
    "           ,r\"../data/August 2018/Cleaned_and_Encoded_Data_Set_August_2018\"\n",
    "           ,r\"../data/December 2018/Cleaned_and_Encoded_Data_Set_December_2018\"\n",
    "           ,r\"../data/February 2019/Cleaned_and_Encoded_Data_Set_February_2019\"\n",
    "           ,r\"../data/January 2019/Cleaned_and_Encoded_Data_Set_January_2019\"\n",
    "           ,r\"../data/July 2018/Cleaned_and_Encoded_Data_Set_July_2018\"\n",
    "           ,r\"../data/June 2018/Cleaned_and_Encoded_Data_Set_June_2018\"\n",
    "           ,r\"../data/March 2019/Cleaned_and_Encoded_Data_Set_March_2019\"\n",
    "           ]\n",
    "month=[\"May 2018\",\"November 2018\",\"October 2018\",\"September 2018\",\"April 2018\",\"August 2018\",\"December 2018\",\"February 2019\",\"January 2019\",\"July 2018\",\"June 2018\",\"March 2019\"]"
   ]
  },
  {
   "cell_type": "markdown",
   "metadata": {},
   "source": [
    "### DISTRIBUTION PLOT : RATING"
   ]
  },
  {
   "cell_type": "code",
   "execution_count": 29,
   "metadata": {},
   "outputs": [],
   "source": [
    "def DISTRIBUTION_PLOT_RATING(df,j,k):\n",
    "    plt.title('DISTRIBUTION PLOT : RATING',fontsize=20)\n",
    "    plt.yticks( size=20)\n",
    "    plt.xticks( size=20)\n",
    "    plt.xlabel('', size=20)\n",
    "    plt.ylabel('', size=20)\n",
    "    #sns.distplot(df['Rating'],kde=False)\n",
    "    sns.countplot(x=\"Rating\",data=df)\n",
    "\n",
    "    fig1 = plt.gcf()     \n",
    "    fig1.savefig('../plots/Pre-Processing Plots/'+k+'/DISTRIBUTION PLOT RATING_'+j+'.png',bbox_inches='tight', dpi=200)\n",
    "    plt.clf()\n",
    "\n",
    "    return"
   ]
  },
  {
   "cell_type": "markdown",
   "metadata": {},
   "source": [
    "### DISTRIBUTION PLOT : CALL DROP CATEGORY"
   ]
  },
  {
   "cell_type": "code",
   "execution_count": 30,
   "metadata": {},
   "outputs": [],
   "source": [
    "def DISTRIBUTION_PLOT_CALL_DROP_CATEGORY(df,j,k):\n",
    "    plt.title(\"DISTRIBUTION PLOT : CALL DROP CATEGORY\",fontsize=20)\n",
    "    plt.yticks( size=20)\n",
    "    plt.xticks( size=20)\n",
    "    plt.xlabel('', size=20)\n",
    "    plt.ylabel('', size=20)\n",
    "    #sns.distplot(df['Call Drop Category'],kde=False,bins=15)\n",
    "    sns.countplot(x=\"Call Drop Category\",data=df)\n",
    "    fig2 = plt.gcf()     \n",
    "    fig2.savefig('../plots/Pre-Processing Plots/'+k+'/DISTRIBUTION PLOT CALL DROP CATEGORY_'+j+'.png',bbox_inches='tight', dpi=200) \n",
    "    plt.clf()\n",
    "\n",
    "    return"
   ]
  },
  {
   "cell_type": "markdown",
   "metadata": {},
   "source": [
    "### DISTRIBUTION PLOT : NETWORK TYPE"
   ]
  },
  {
   "cell_type": "code",
   "execution_count": 31,
   "metadata": {},
   "outputs": [],
   "source": [
    "def DISTRIBUTION_PLOT_NETWORK_TYPE(df,j,k):\n",
    "    plt.title(\"DISTRIBUTION PLOT : NETWORK TYPE\",fontsize=20)\n",
    "    plt.yticks( size=20)\n",
    "    plt.xticks( size=20)\n",
    "    plt.xlabel('', size=20)\n",
    "    plt.ylabel('', size=20)\n",
    "    sns.countplot(x=\"Network Type\",data=df)\n",
    "    fig3 = plt.gcf()     \n",
    "    fig3.savefig('../plots/Pre-Processing Plots/'+k+'/DISTRIBUTION PLOT NETWORK TYPE_'+j+'.png',bbox_inches='tight', dpi=200) \n",
    "    plt.clf()\n",
    "\n",
    "    return"
   ]
  },
  {
   "cell_type": "markdown",
   "metadata": {},
   "source": [
    "### DISTRIBUTION PLOT : USAGE TYPE"
   ]
  },
  {
   "cell_type": "code",
   "execution_count": 32,
   "metadata": {},
   "outputs": [],
   "source": [
    "def DISTRIBUTION_PLOT_USAGE_TYPE(df,j,k):\n",
    "    #plt.title('DISTRIBUTION PLOT : USAGE TYPE',fontsize=12)\n",
    "    plt.figure(figsize=(10,10))   \n",
    "    plt.yticks( size=10)\n",
    "    plt.xticks( size=10)\n",
    "    plt.xlabel('', size=10)\n",
    "    plt.ylabel('', size=10)\n",
    "    sns.countplot(x=\"In Out Travelling\",data=df).set_title(\"DISTRIBUTION PLOT : USAGE TYPE\")\n",
    "    fig4 = plt.gcf()    \n",
    "    fig4.savefig('../plots/Pre-Processing Plots/'+k+'/DISTRIBUTION PLOT (USAGE TYPE)_'+j+'.png', dpi=200) \n",
    "    plt.clf()\n",
    "\n",
    "    return"
   ]
  },
  {
   "cell_type": "markdown",
   "metadata": {},
   "source": [
    "### DISTRIBUTION PLOT : STATES"
   ]
  },
  {
   "cell_type": "code",
   "execution_count": 33,
   "metadata": {},
   "outputs": [],
   "source": [
    "def DISTRIBUTION_PLOT_STATES(df,j,k):\n",
    "    plt.figure(figsize=(30,15))\n",
    "    sns.set(font_scale=1)\n",
    "    plt.yticks( size=15)\n",
    "    plt.xticks( size=15)\n",
    "    plt.xlabel('', size=15)\n",
    "    plt.ylabel('', size=15)\n",
    "    sns.countplot(y=\"State Name\",data=df).set_title(\"DISTRIBUTION PLOT : STATES\",fontsize=20)\n",
    "    fig5 = plt.gcf()     \n",
    "    fig5.savefig('../plots/Pre-Processing Plots/'+k+'/DISTRIBUTION PLOT (STATE NAME)_'+j+'.png', dpi=200) \n",
    "    plt.clf()\n",
    "\n",
    "    return"
   ]
  },
  {
   "cell_type": "markdown",
   "metadata": {},
   "source": [
    "### DISTRIBUTION PLOT : OPERATOR"
   ]
  },
  {
   "cell_type": "code",
   "execution_count": 34,
   "metadata": {},
   "outputs": [],
   "source": [
    "def DISTRIBUTION_PLOT_OPERATOR(df,j,k):\n",
    "    plt.figure(figsize=(15,5))\n",
    "    plt.yticks( size=10)\n",
    "    plt.xticks( size=10)\n",
    "    sns.countplot(x=\"Operator\",data=df).set_title(\"DISTRIBUTION PLOT : OPERATOR\")\n",
    "    fig6 = plt.gcf()     \n",
    "    fig6.savefig('../plots/Pre-Processing Plots/'+k+'/DISTRIBUTION PLOT (OPERATOR)_'+j+'.png', dpi=200) \n",
    "    plt.clf()\n",
    "\n",
    "    return"
   ]
  },
  {
   "cell_type": "markdown",
   "metadata": {},
   "source": [
    "### BOX PLOT : OPERATOR VS RATING"
   ]
  },
  {
   "cell_type": "code",
   "execution_count": 35,
   "metadata": {},
   "outputs": [],
   "source": [
    "def BOX_PLOT_OPERATOR_VS_RATING(df,j,k):\n",
    "    #plt.title('BOX PLOT : OPERATOR VS RATING',fontsize=55)\n",
    "    plt.figure(figsize=(15,5))\n",
    "    sns.boxplot(x=\"Operator\", y=\"Rating\", data=df,palette='rainbow').set_title('BOX PLOT : OPERATOR VS RATING')\n",
    "    fig7 = plt.gcf()     \n",
    "    fig7.savefig('../plots/Pre-Processing Plots/'+k+'/BOX PLOT (OPERATOR VS RATING)_'+j+'.png',bbox_inches='tight', dpi=200) \n",
    "    plt.clf()\n",
    "\n",
    "    return"
   ]
  },
  {
   "cell_type": "markdown",
   "metadata": {},
   "source": [
    "### BOX PLOT : STATE NAME VS RATING"
   ]
  },
  {
   "cell_type": "code",
   "execution_count": 36,
   "metadata": {},
   "outputs": [],
   "source": [
    "def BOX_PLOT_STATE_NAME_VS_RATING(df,j,k):\n",
    "    plt.figure(figsize=(30,60))\n",
    "    plt.yticks( size=35)\n",
    "    plt.xticks( size=35)\n",
    "    plt.xlabel('', size=40)\n",
    "    plt.ylabel('', size=40)\n",
    "    sns.boxplot(x=\"Rating\", y=\"State Name\", data=df,palette='rainbow').set_title('BOX PLOT : STATE NAME VS RATING',fontsize=60)\n",
    "    fig8 = plt.gcf()     \n",
    "    fig8.savefig('../plots/Pre-Processing Plots/'+k+'/BOX PLOT (STATE VS RATING)_'+j+'.png',bbox_inches='tight', dpi=200) \n",
    "    plt.clf()\n",
    "\n",
    "    return"
   ]
  },
  {
   "cell_type": "markdown",
   "metadata": {},
   "source": [
    "### BOX PLOT : NETWORK TYPE VS RATING"
   ]
  },
  {
   "cell_type": "code",
   "execution_count": 37,
   "metadata": {},
   "outputs": [],
   "source": [
    "def BOX_PLOT_NETWORK_TYPE_VS_RATING(df,j,k):\n",
    "    plt.figure(figsize=(10,10))\n",
    "    sns.boxplot(x=\"Network Type\", y=\"Rating\", data=df,palette='rainbow').set_title('BOX PLOT : NETWORK TYPE VS RATING')\n",
    "    fig9 = plt.gcf()     \n",
    "    fig9.savefig('../plots/Pre-Processing Plots/'+k+'/BOX PLOT (NETWORK TYPE VS RATING)_'+j+'.png',bbox_inches='tight', dpi=200) \n",
    "    plt.clf()\n",
    "\n",
    "    return"
   ]
  },
  {
   "cell_type": "markdown",
   "metadata": {},
   "source": [
    "### BOX PLOT : USAGE TYPE VS RATING"
   ]
  },
  {
   "cell_type": "code",
   "execution_count": 38,
   "metadata": {},
   "outputs": [],
   "source": [
    "def BOX_PLOT_USAGE_TYPE_VS_RATING(df,j,k):\n",
    "    plt.title('BOX PLOT : USAGE TYPE VS RATING',fontsize=55)\n",
    "    plt.figure(figsize=(10,10))\n",
    "    sns.boxplot(x=\"In Out Travelling\", y=\"Rating\", data=df,palette='rainbow').set_title('BOX PLOT : USAGE TYPE VS RATING')\n",
    "    fig10 = plt.gcf()     \n",
    "    fig10.savefig('../plots/Pre-Processing Plots/'+k+'/BOX PLOT (USAGE TYPE VS RATING)_'+j+'.png',bbox_inches='tight', dpi=200) \n",
    "    plt.clf()\n",
    "\n",
    "    return"
   ]
  },
  {
   "cell_type": "markdown",
   "metadata": {},
   "source": [
    "### BOX PLOT : CALL DROP CATEGORY VS RATING"
   ]
  },
  {
   "cell_type": "code",
   "execution_count": 39,
   "metadata": {},
   "outputs": [],
   "source": [
    "def BOX_PLOT_CALL_DROP_CATEGORY_VS_RATING(df,j,k):\n",
    "    plt.title('BOX PLOT : CALL DROP CATEGORY VS RATING',fontsize=55)\n",
    "    plt.figure(figsize=(10,10))\n",
    "    sns.boxplot(x=\"Call Drop Category\", y=\"Rating\", data=df,palette='rainbow').set_title('BOX PLOT : CALL DROP CATEGORY VS RATING')\n",
    "    fig11 = plt.gcf()     \n",
    "    fig11.savefig('../plots/Pre-Processing Plots/'+k+'/BOX PLOT (CALL DROP CATEGORY VS RATING)_'+j+'.png',bbox_inches='tight', dpi=200) \n",
    "    plt.clf()\n",
    "\n",
    "    return"
   ]
  },
  {
   "cell_type": "markdown",
   "metadata": {},
   "source": [
    "  ### SCATTER PLOT : LOCATIONS WITH GOOD CALL RATINGS (RATING = 4 AND ABOVE)"
   ]
  },
  {
   "cell_type": "code",
   "execution_count": 40,
   "metadata": {},
   "outputs": [],
   "source": [
    "def SCATTER_PLOT_GOOD_CALL_RATINGS(df,j,k):\n",
    "    #plt.title('SCATTER PLOT : LOCATIONS WITH GOOD CALL RATINGS (RATING = 4 AND ABOVE)',fontsize=55)\n",
    "    df1=df.copy()\n",
    "    df1=df1[df1['Rating']>=4]   \n",
    "    df1=df1[df1['Longitude']>65]\n",
    "    df1=df1[df1['Longitude']<100]\n",
    "    df1=df1[df1['Latitude']>5]\n",
    "    df1=df1[df1['Latitude']<40]\n",
    "\n",
    "\n",
    "    plt.figure(figsize=(10,10))\n",
    "    sns.set(font_scale=2)\n",
    "    plt.yticks( size=15)\n",
    "    plt.xticks( size=15)\n",
    "    plt.xlabel('Longitude')\n",
    "    plt.ylabel('Latitude')\n",
    "    plot1=plt.scatter(df1['Longitude'],df1['Latitude'],s=5,color='black') \n",
    "    plt.title(\"SCATTER PLOT : \\nLOCATIONS WITH RATING = 4 AND ABOVE\", x=0.6, y=0.9, fontsize=12)\n",
    "\n",
    "    fig12 = plt.gcf()     \n",
    "    plt.axes().set_aspect(1)    \n",
    "    fig12.savefig('../plots/Pre-Processing Plots/'+k+'/SCATTER PLOT LOCATIONS WITH GOOD CALL RATINGS_'+j+'.png', bbox_inches='tight',dpi=200) \n",
    "    plt.clf()\n",
    "\n",
    "    return"
   ]
  },
  {
   "cell_type": "markdown",
   "metadata": {},
   "source": [
    "  ### BAR PLOT : OPERATOR VS RATINGS (WITH NETWORK TYPE SPECIFIED)"
   ]
  },
  {
   "cell_type": "code",
   "execution_count": 41,
   "metadata": {},
   "outputs": [],
   "source": [
    "def BAR_PLOT_OPERATOR_VS_RATINGS_WITH_NETWORK_TYPE(df,j,k):\n",
    "    \n",
    "    plt.figure(figsize=(40,20))\n",
    "    sns.set(font_scale=3)\n",
    "    plt.yticks( size=25)\n",
    "    plt.xticks( size=30)\n",
    "    sns.barplot(x='Operator',y='Rating',hue='Network Type', data=df,).set_title(\"BAR PLOT : OPERATOR VS RATINGS (WITH NETWORK TYPE SPECIFIED)\")\n",
    "    fig13 = plt.gcf()\n",
    "    fig13.savefig('../plots/Pre-Processing Plots/'+k+'/BAR PLOT_OPERATOR VS RATINGS (WITH NETWORK TYPE SPECIFIED)_'+j+'.png',bbox_inches='tight', dpi=200)\n",
    "    plt.clf()\n",
    "\n",
    "    return"
   ]
  },
  {
   "cell_type": "markdown",
   "metadata": {},
   "source": [
    "  ### BAR PLOT : OPERATOR VS CALL DROP CATEGORY (WITH NETWORK TYPE SPECIFIED)"
   ]
  },
  {
   "cell_type": "code",
   "execution_count": 42,
   "metadata": {},
   "outputs": [],
   "source": [
    "def BAR_PLOT_OPERATOR_VS_CALL_DROP_CATEGORY_WITH_NETWORK_TYPE(df,j,k):\n",
    "    plt.figure(figsize=(40,20))\n",
    "    sns.set(font_scale=3)\n",
    "    plt.yticks( size=25)\n",
    "    plt.xticks( size=30)\n",
    "    sns.barplot(x='Operator',y='Call Drop Category',hue='Network Type', data=df).set_title('BAR PLOT : OPERATOR VS CALL DROP CATEGORY (WITH NETWORK TYPE SPECIFIED)')\n",
    "    fig14 = plt.gcf()\n",
    "    fig14.savefig('../plots/Pre-Processing Plots/'+k+'/BAR PLOT_OPERATOR VS CALL DROP CATEGORY (WITH NETWORK TYPE SPECIFIED)_'+j+'.png',bbox_inches='tight', dpi=200)\n",
    "    plt.clf()\n",
    "\n",
    "    return"
   ]
  },
  {
   "cell_type": "markdown",
   "metadata": {},
   "source": [
    "  ### BAR PLOT : OPERATOR VS OVERALL RATINGS "
   ]
  },
  {
   "cell_type": "code",
   "execution_count": 43,
   "metadata": {},
   "outputs": [],
   "source": [
    "def BAR_PLOT_OPERATOR_VS_OVERALL_RATINGS(df,j,k):\n",
    "    plt.figure(figsize=(40,20))\n",
    "    sns.set(font_scale=3)\n",
    "    plt.yticks( size=25)\n",
    "    plt.xticks( size=30)\n",
    "    result = df.groupby([\"Operator\"])['Rating'].aggregate(np.mean).reset_index().sort_values('Rating')\n",
    "    sns.barplot(x='Operator',y='Rating', data=result, order=result['Operator']).set_title('BAR PLOT : OPERATOR VS OVERALL RATINGS')\n",
    "    fig15 = plt.gcf()\n",
    "    fig15.savefig('../plots/Pre-Processing Plots/'+k+'/BAR PLOT_OPERATOR VS OVERALL RATINGS_'+j+'.png',bbox_inches='tight', dpi=200)\n",
    "    plt.clf()\n",
    "\n",
    "    return"
   ]
  },
  {
   "cell_type": "markdown",
   "metadata": {},
   "source": [
    "  ### BAR PLOT : OPERATOR VS OVERALL CALL DROP CATEGORY "
   ]
  },
  {
   "cell_type": "code",
   "execution_count": 44,
   "metadata": {},
   "outputs": [],
   "source": [
    "def BAR_PLOT_OPERATOR_VS_OVERALL_CALL_DROP_CATEGORY(df,j,k):\n",
    "    plt.figure(figsize=(40,20))\n",
    "    sns.set(font_scale=3)\n",
    "    plt.yticks( size=25)\n",
    "    plt.xticks( size=30)\n",
    "    result = df.groupby([\"Operator\"])['Call Drop Category'].aggregate(np.mean).reset_index().sort_values('Call Drop Category')\n",
    "    sns.barplot(x='Operator',y='Call Drop Category', data=result, order=result['Operator']).set_title('BAR PLOT : OPERATOR VS OVERALL CALL DROP CATEGORY')\n",
    "    fig15 = plt.gcf()\n",
    "    fig16 = plt.gcf()\n",
    "    fig16.savefig('../plots/Pre-Processing Plots/'+k+'/BAR PLOT_OPERATOR VS OVERALL CALL DROP CATEGORY_'+j+'.png',bbox_inches='tight', dpi=200)\n",
    "    plt.clf()\n",
    "\n",
    "    return"
   ]
  },
  {
   "cell_type": "markdown",
   "metadata": {},
   "source": [
    "### HEAT MAP : STATE VS OPERATOR BASED ON RATING"
   ]
  },
  {
   "cell_type": "code",
   "execution_count": 45,
   "metadata": {},
   "outputs": [],
   "source": [
    "def HEAT_MAP_STATE_VS_OPERATOR_BASED_ON_RATING(df,j,k):\n",
    "    mosaic_plot= df.pivot_table(values='Rating',index='State Name',columns='Operator')\n",
    "    sns.set(font_scale=3)\n",
    "    plt.figure(figsize=(40,20))\n",
    "    plt.yticks( size=25)\n",
    "    plt.xticks( size=30)\n",
    "    sns.heatmap(mosaic_plot,cmap='BuPu',linecolor='white',linewidths=.1,square=False).set_title('HEAT MAP : STATE VS OPERATOR BASED ON RATING')\n",
    "    fig17 = plt.gcf()\n",
    "    fig17.savefig('../plots/Pre-Processing Plots/'+k+'/HEAT MAP_STATE VS OPERATOR BASED ON RATING_'+j+'.png',bbox_inches='tight', dpi=200)\n",
    "    plt.clf()\n",
    "\n",
    "    return"
   ]
  },
  {
   "cell_type": "markdown",
   "metadata": {},
   "source": [
    "### HEAT MAP : STATE VS OPERATOR BASED ON CALL DROP CATEGORY"
   ]
  },
  {
   "cell_type": "code",
   "execution_count": 46,
   "metadata": {},
   "outputs": [],
   "source": [
    "def HEAT_MAP_STATE_VS_OPERATOR_BASED_ON_CALL_DROP_CATEGORY(df,j,k):\n",
    "    mosaic_plot= df.pivot_table(values='Call Drop Category',index='State Name',columns='Operator')\n",
    "    sns.set(font_scale=3)\n",
    "    plt.figure(figsize=(40,20))\n",
    "    plt.yticks( size=25)\n",
    "    plt.xticks( size=30)\n",
    "    sns.heatmap(mosaic_plot,linecolor='white',linewidth=.1,cmap='Blues').set_title('HEAT MAP : STATE VS OPERATOR BASED ON CALL DROP CATEGORY')\n",
    "    fig18 = plt.gcf()\n",
    "    fig18.savefig('../plots/Pre-Processing Plots/'+k+'/HEAT MAP_STATE VS OPERATOR BASED ON CALL DROP CATEGORY_'+j+'.png',bbox_inches='tight', dpi=200)\n",
    "    plt.clf()\n",
    "\n",
    "    return"
   ]
  },
  {
   "cell_type": "markdown",
   "metadata": {},
   "source": [
    "### HEAT MAP : OPERATOR VS USAGE TYPE (IN/OUT/TRAVELLING) BASED ON RATING"
   ]
  },
  {
   "cell_type": "code",
   "execution_count": 47,
   "metadata": {},
   "outputs": [],
   "source": [
    "def HEAT_MAP_OPERATOR_VS_USAGE_TYPE_BASED_ON_RATING(df,j,k):\n",
    "    mosaic_plot= df.pivot_table(values='Rating',index='Operator',columns='In Out Travelling')\n",
    "    sns.set(font_scale=1)\n",
    "    plt.figure(figsize=(15,10))\n",
    "    sns.heatmap(mosaic_plot,linecolor='white',linewidth=.1).set_title('HEAT MAP : OPERATOR VS USAGE TYPE (IN/OUT/TRAVELLING) BASED ON RATING')\n",
    "    fig19 = plt.gcf()\n",
    "    fig19.savefig('../plots/Pre-Processing Plots/'+k+'/HEAT MAP_OPERATOR VS USAGE TYPE BASED ON RATING_'+j+'.png',bbox_inches='tight', dpi=200)\n",
    "    plt.clf()\n",
    "\n",
    "    return"
   ]
  },
  {
   "cell_type": "markdown",
   "metadata": {},
   "source": [
    "### HEAT MAP : OPERATOR VS USAGE TYPE (IN/OUT/TRAVELLING) BASED ON CALL DROP CATEGORY"
   ]
  },
  {
   "cell_type": "code",
   "execution_count": 48,
   "metadata": {},
   "outputs": [],
   "source": [
    "def HEAT_MAP_OPERATOR_VS_USAGE_TYPE_BASED_ON_CALL_DROP_CATEGORY(df,j,k):\n",
    "    mosaic_plot= df.pivot_table(values='Call Drop Category',index='Operator',columns='In Out Travelling')\n",
    "    sns.set(font_scale=1)\n",
    "    plt.figure(figsize=(15,10))\n",
    "    sns.heatmap(mosaic_plot,linecolor='white',linewidth=.1).set_title('HEAT MAP : OPERATOR VS USAGE TYPE (IN/OUT/TRAVELLING) BASED ON CALL DROP CATEGORY')\n",
    "    fig20 = plt.gcf()\n",
    "    fig20.savefig('../plots/Pre-Processing Plots/'+k+'/HEAT MAP_OPERATOR VS USAGE TYPE BASED ON CALL DROP CATEGORY_'+j+'.png',bbox_inches='tight', dpi=200)\n",
    "    plt.clf()\n",
    "\n",
    "    return"
   ]
  },
  {
   "cell_type": "markdown",
   "metadata": {},
   "source": [
    "### BAR PLOT : STATE VS RATING"
   ]
  },
  {
   "cell_type": "code",
   "execution_count": 49,
   "metadata": {},
   "outputs": [],
   "source": [
    "def BAR_PLOT_STATE_VS_RATING(df,j,k):\n",
    "    plt.figure(figsize=(50,20))\n",
    "    plt.yticks( size=25)\n",
    "    plt.xticks( size=30)\n",
    "    plt.xlabel('Rating', size=40)\n",
    "    plt.ylabel('State Name', size=40)\n",
    "    result = df.groupby([\"State Name\"])['Rating'].aggregate(np.mean).reset_index().sort_values('Rating')\n",
    "    sns.barplot(x='Rating',y='State Name', data=result,order=result['State Name']).set_title('BAR PLOT : STATE VS RATING',fontsize=40)\n",
    "    fig21 = plt.gcf()\n",
    "    fig21.savefig('../plots/Pre-Processing Plots/'+k+'/BAR PLOT_STATE VS RATING_'+j+'.png',bbox_inches='tight', dpi=200)\n",
    "    plt.clf()\n",
    "\n",
    "    return"
   ]
  },
  {
   "cell_type": "markdown",
   "metadata": {},
   "source": [
    "### BAR PLOT : STATE VS CALL DROP CATEGORY"
   ]
  },
  {
   "cell_type": "code",
   "execution_count": 50,
   "metadata": {},
   "outputs": [],
   "source": [
    "def BAR_PLOT_STATE_VS_CALL_DROP_CATEGORY(df,j,k):\n",
    "    plt.figure(figsize=(50,20))\n",
    "    plt.yticks( size=25)\n",
    "    plt.xticks( size=30)\n",
    "    plt.xlabel('Rating', size=40)\n",
    "    plt.ylabel('State Name', size=40)\n",
    "    result = df.groupby([\"State Name\"])['Call Drop Category'].aggregate(np.mean).reset_index().sort_values('Call Drop Category')\n",
    "    sns.barplot(x='Call Drop Category',y='State Name', data=result, order=result['State Name']).set_title('BAR PLOT : STATE VS CALL DROP CATEGORY',fontsize=40)\n",
    "    fig22 = plt.gcf()\n",
    "    fig22.savefig('../plots/Pre-Processing Plots/'+k+'/BAR PLOT_STATE VS CALL DROP CATEGORY_'+j+'.png',bbox_inches='tight', dpi=200)\n",
    "    plt.clf()\n",
    "\n",
    "    return"
   ]
  },
  {
   "cell_type": "markdown",
   "metadata": {},
   "source": [
    "### HEAT MAP : CORRELATION PLOT"
   ]
  },
  {
   "cell_type": "code",
   "execution_count": 51,
   "metadata": {},
   "outputs": [],
   "source": [
    "def HEAT_MAP_CORRELATION_PLOT(df,j,k):\n",
    "    plt.yticks( size=50)\n",
    "    plt.xticks( size=50)\n",
    "    plt.xlabel('', size=50)\n",
    "    plt.ylabel('', size=50)\n",
    "    sns.set(font_scale=2)\n",
    "    dfCorr=df.copy()\n",
    "    dfCorr.drop(columns=['Operator','In Out Travelling', 'Latitude','Longitude','State Name'])\n",
    "    sns.heatmap(dfCorr.corr(),cmap=\"Greens\").set_title('HEAT MAP : CORRELATION PLOT',fontsize=40)\n",
    "    fig23 = plt.gcf()\n",
    "    fig23.savefig('../plots/Pre-Processing Plots/'+k+'/HEAT MAP_CORRELATION PLOT_'+j+'.png',bbox_inches='tight', dpi=200)\n",
    "    plt.clf()\n",
    "\n",
    "    return"
   ]
  },
  {
   "cell_type": "markdown",
   "metadata": {},
   "source": [
    "### MAIN LOOP TO PLOT FOR ALL MONTHS"
   ]
  },
  {
   "cell_type": "code",
   "execution_count": 52,
   "metadata": {},
   "outputs": [
    {
     "ename": "FileNotFoundError",
     "evalue": "[Errno 2] File ..//data/May 2018/Cleaned_and_Encoded_Data_Set_May_2018.csv does not exist: '..//data/May 2018/Cleaned_and_Encoded_Data_Set_May_2018.csv'",
     "output_type": "error",
     "traceback": [
      "\u001b[0;31m---------------------------------------------------------------------------\u001b[0m",
      "\u001b[0;31mFileNotFoundError\u001b[0m                         Traceback (most recent call last)",
      "\u001b[0;32m<ipython-input-52-adbade6ea7f0>\u001b[0m in \u001b[0;36m<module>\u001b[0;34m\u001b[0m\n\u001b[1;32m      1\u001b[0m \u001b[0;32mfor\u001b[0m \u001b[0mj\u001b[0m \u001b[0;32min\u001b[0m \u001b[0mrange\u001b[0m\u001b[0;34m(\u001b[0m\u001b[0mlen\u001b[0m\u001b[0;34m(\u001b[0m\u001b[0maddresses\u001b[0m\u001b[0;34m)\u001b[0m\u001b[0;34m)\u001b[0m\u001b[0;34m:\u001b[0m\u001b[0;34m\u001b[0m\u001b[0;34m\u001b[0m\u001b[0m\n\u001b[1;32m      2\u001b[0m     \u001b[0mfile_name\u001b[0m\u001b[0;34m=\u001b[0m\u001b[0maddresses\u001b[0m\u001b[0;34m[\u001b[0m\u001b[0mj\u001b[0m\u001b[0;34m]\u001b[0m\u001b[0;34m\u001b[0m\u001b[0;34m\u001b[0m\u001b[0m\n\u001b[0;32m----> 3\u001b[0;31m     \u001b[0mdf\u001b[0m \u001b[0;34m=\u001b[0m \u001b[0mpd\u001b[0m\u001b[0;34m.\u001b[0m\u001b[0mread_csv\u001b[0m\u001b[0;34m(\u001b[0m\u001b[0mfile_name\u001b[0m\u001b[0;34m+\u001b[0m\u001b[0;34m'.csv'\u001b[0m\u001b[0;34m)\u001b[0m\u001b[0;34m\u001b[0m\u001b[0;34m\u001b[0m\u001b[0m\n\u001b[0m\u001b[1;32m      4\u001b[0m     \u001b[0mfile2\u001b[0m\u001b[0;34m=\u001b[0m\u001b[0mmonth\u001b[0m\u001b[0;34m[\u001b[0m\u001b[0mj\u001b[0m\u001b[0;34m]\u001b[0m\u001b[0;34m\u001b[0m\u001b[0;34m\u001b[0m\u001b[0m\n\u001b[1;32m      5\u001b[0m     \u001b[0mfile\u001b[0m\u001b[0;34m=\u001b[0m\u001b[0mfile2\u001b[0m\u001b[0;34m\u001b[0m\u001b[0;34m\u001b[0m\u001b[0m\n",
      "\u001b[0;32m~/opt/anaconda3/lib/python3.7/site-packages/pandas/io/parsers.py\u001b[0m in \u001b[0;36mparser_f\u001b[0;34m(filepath_or_buffer, sep, delimiter, header, names, index_col, usecols, squeeze, prefix, mangle_dupe_cols, dtype, engine, converters, true_values, false_values, skipinitialspace, skiprows, skipfooter, nrows, na_values, keep_default_na, na_filter, verbose, skip_blank_lines, parse_dates, infer_datetime_format, keep_date_col, date_parser, dayfirst, cache_dates, iterator, chunksize, compression, thousands, decimal, lineterminator, quotechar, quoting, doublequote, escapechar, comment, encoding, dialect, error_bad_lines, warn_bad_lines, delim_whitespace, low_memory, memory_map, float_precision)\u001b[0m\n\u001b[1;32m    674\u001b[0m         )\n\u001b[1;32m    675\u001b[0m \u001b[0;34m\u001b[0m\u001b[0m\n\u001b[0;32m--> 676\u001b[0;31m         \u001b[0;32mreturn\u001b[0m \u001b[0m_read\u001b[0m\u001b[0;34m(\u001b[0m\u001b[0mfilepath_or_buffer\u001b[0m\u001b[0;34m,\u001b[0m \u001b[0mkwds\u001b[0m\u001b[0;34m)\u001b[0m\u001b[0;34m\u001b[0m\u001b[0;34m\u001b[0m\u001b[0m\n\u001b[0m\u001b[1;32m    677\u001b[0m \u001b[0;34m\u001b[0m\u001b[0m\n\u001b[1;32m    678\u001b[0m     \u001b[0mparser_f\u001b[0m\u001b[0;34m.\u001b[0m\u001b[0m__name__\u001b[0m \u001b[0;34m=\u001b[0m \u001b[0mname\u001b[0m\u001b[0;34m\u001b[0m\u001b[0;34m\u001b[0m\u001b[0m\n",
      "\u001b[0;32m~/opt/anaconda3/lib/python3.7/site-packages/pandas/io/parsers.py\u001b[0m in \u001b[0;36m_read\u001b[0;34m(filepath_or_buffer, kwds)\u001b[0m\n\u001b[1;32m    446\u001b[0m \u001b[0;34m\u001b[0m\u001b[0m\n\u001b[1;32m    447\u001b[0m     \u001b[0;31m# Create the parser.\u001b[0m\u001b[0;34m\u001b[0m\u001b[0;34m\u001b[0m\u001b[0;34m\u001b[0m\u001b[0m\n\u001b[0;32m--> 448\u001b[0;31m     \u001b[0mparser\u001b[0m \u001b[0;34m=\u001b[0m \u001b[0mTextFileReader\u001b[0m\u001b[0;34m(\u001b[0m\u001b[0mfp_or_buf\u001b[0m\u001b[0;34m,\u001b[0m \u001b[0;34m**\u001b[0m\u001b[0mkwds\u001b[0m\u001b[0;34m)\u001b[0m\u001b[0;34m\u001b[0m\u001b[0;34m\u001b[0m\u001b[0m\n\u001b[0m\u001b[1;32m    449\u001b[0m \u001b[0;34m\u001b[0m\u001b[0m\n\u001b[1;32m    450\u001b[0m     \u001b[0;32mif\u001b[0m \u001b[0mchunksize\u001b[0m \u001b[0;32mor\u001b[0m \u001b[0miterator\u001b[0m\u001b[0;34m:\u001b[0m\u001b[0;34m\u001b[0m\u001b[0;34m\u001b[0m\u001b[0m\n",
      "\u001b[0;32m~/opt/anaconda3/lib/python3.7/site-packages/pandas/io/parsers.py\u001b[0m in \u001b[0;36m__init__\u001b[0;34m(self, f, engine, **kwds)\u001b[0m\n\u001b[1;32m    878\u001b[0m             \u001b[0mself\u001b[0m\u001b[0;34m.\u001b[0m\u001b[0moptions\u001b[0m\u001b[0;34m[\u001b[0m\u001b[0;34m\"has_index_names\"\u001b[0m\u001b[0;34m]\u001b[0m \u001b[0;34m=\u001b[0m \u001b[0mkwds\u001b[0m\u001b[0;34m[\u001b[0m\u001b[0;34m\"has_index_names\"\u001b[0m\u001b[0;34m]\u001b[0m\u001b[0;34m\u001b[0m\u001b[0;34m\u001b[0m\u001b[0m\n\u001b[1;32m    879\u001b[0m \u001b[0;34m\u001b[0m\u001b[0m\n\u001b[0;32m--> 880\u001b[0;31m         \u001b[0mself\u001b[0m\u001b[0;34m.\u001b[0m\u001b[0m_make_engine\u001b[0m\u001b[0;34m(\u001b[0m\u001b[0mself\u001b[0m\u001b[0;34m.\u001b[0m\u001b[0mengine\u001b[0m\u001b[0;34m)\u001b[0m\u001b[0;34m\u001b[0m\u001b[0;34m\u001b[0m\u001b[0m\n\u001b[0m\u001b[1;32m    881\u001b[0m \u001b[0;34m\u001b[0m\u001b[0m\n\u001b[1;32m    882\u001b[0m     \u001b[0;32mdef\u001b[0m \u001b[0mclose\u001b[0m\u001b[0;34m(\u001b[0m\u001b[0mself\u001b[0m\u001b[0;34m)\u001b[0m\u001b[0;34m:\u001b[0m\u001b[0;34m\u001b[0m\u001b[0;34m\u001b[0m\u001b[0m\n",
      "\u001b[0;32m~/opt/anaconda3/lib/python3.7/site-packages/pandas/io/parsers.py\u001b[0m in \u001b[0;36m_make_engine\u001b[0;34m(self, engine)\u001b[0m\n\u001b[1;32m   1112\u001b[0m     \u001b[0;32mdef\u001b[0m \u001b[0m_make_engine\u001b[0m\u001b[0;34m(\u001b[0m\u001b[0mself\u001b[0m\u001b[0;34m,\u001b[0m \u001b[0mengine\u001b[0m\u001b[0;34m=\u001b[0m\u001b[0;34m\"c\"\u001b[0m\u001b[0;34m)\u001b[0m\u001b[0;34m:\u001b[0m\u001b[0;34m\u001b[0m\u001b[0;34m\u001b[0m\u001b[0m\n\u001b[1;32m   1113\u001b[0m         \u001b[0;32mif\u001b[0m \u001b[0mengine\u001b[0m \u001b[0;34m==\u001b[0m \u001b[0;34m\"c\"\u001b[0m\u001b[0;34m:\u001b[0m\u001b[0;34m\u001b[0m\u001b[0;34m\u001b[0m\u001b[0m\n\u001b[0;32m-> 1114\u001b[0;31m             \u001b[0mself\u001b[0m\u001b[0;34m.\u001b[0m\u001b[0m_engine\u001b[0m \u001b[0;34m=\u001b[0m \u001b[0mCParserWrapper\u001b[0m\u001b[0;34m(\u001b[0m\u001b[0mself\u001b[0m\u001b[0;34m.\u001b[0m\u001b[0mf\u001b[0m\u001b[0;34m,\u001b[0m \u001b[0;34m**\u001b[0m\u001b[0mself\u001b[0m\u001b[0;34m.\u001b[0m\u001b[0moptions\u001b[0m\u001b[0;34m)\u001b[0m\u001b[0;34m\u001b[0m\u001b[0;34m\u001b[0m\u001b[0m\n\u001b[0m\u001b[1;32m   1115\u001b[0m         \u001b[0;32melse\u001b[0m\u001b[0;34m:\u001b[0m\u001b[0;34m\u001b[0m\u001b[0;34m\u001b[0m\u001b[0m\n\u001b[1;32m   1116\u001b[0m             \u001b[0;32mif\u001b[0m \u001b[0mengine\u001b[0m \u001b[0;34m==\u001b[0m \u001b[0;34m\"python\"\u001b[0m\u001b[0;34m:\u001b[0m\u001b[0;34m\u001b[0m\u001b[0;34m\u001b[0m\u001b[0m\n",
      "\u001b[0;32m~/opt/anaconda3/lib/python3.7/site-packages/pandas/io/parsers.py\u001b[0m in \u001b[0;36m__init__\u001b[0;34m(self, src, **kwds)\u001b[0m\n\u001b[1;32m   1889\u001b[0m         \u001b[0mkwds\u001b[0m\u001b[0;34m[\u001b[0m\u001b[0;34m\"usecols\"\u001b[0m\u001b[0;34m]\u001b[0m \u001b[0;34m=\u001b[0m \u001b[0mself\u001b[0m\u001b[0;34m.\u001b[0m\u001b[0musecols\u001b[0m\u001b[0;34m\u001b[0m\u001b[0;34m\u001b[0m\u001b[0m\n\u001b[1;32m   1890\u001b[0m \u001b[0;34m\u001b[0m\u001b[0m\n\u001b[0;32m-> 1891\u001b[0;31m         \u001b[0mself\u001b[0m\u001b[0;34m.\u001b[0m\u001b[0m_reader\u001b[0m \u001b[0;34m=\u001b[0m \u001b[0mparsers\u001b[0m\u001b[0;34m.\u001b[0m\u001b[0mTextReader\u001b[0m\u001b[0;34m(\u001b[0m\u001b[0msrc\u001b[0m\u001b[0;34m,\u001b[0m \u001b[0;34m**\u001b[0m\u001b[0mkwds\u001b[0m\u001b[0;34m)\u001b[0m\u001b[0;34m\u001b[0m\u001b[0;34m\u001b[0m\u001b[0m\n\u001b[0m\u001b[1;32m   1892\u001b[0m         \u001b[0mself\u001b[0m\u001b[0;34m.\u001b[0m\u001b[0munnamed_cols\u001b[0m \u001b[0;34m=\u001b[0m \u001b[0mself\u001b[0m\u001b[0;34m.\u001b[0m\u001b[0m_reader\u001b[0m\u001b[0;34m.\u001b[0m\u001b[0munnamed_cols\u001b[0m\u001b[0;34m\u001b[0m\u001b[0;34m\u001b[0m\u001b[0m\n\u001b[1;32m   1893\u001b[0m \u001b[0;34m\u001b[0m\u001b[0m\n",
      "\u001b[0;32mpandas/_libs/parsers.pyx\u001b[0m in \u001b[0;36mpandas._libs.parsers.TextReader.__cinit__\u001b[0;34m()\u001b[0m\n",
      "\u001b[0;32mpandas/_libs/parsers.pyx\u001b[0m in \u001b[0;36mpandas._libs.parsers.TextReader._setup_parser_source\u001b[0;34m()\u001b[0m\n",
      "\u001b[0;31mFileNotFoundError\u001b[0m: [Errno 2] File ..//data/May 2018/Cleaned_and_Encoded_Data_Set_May_2018.csv does not exist: '..//data/May 2018/Cleaned_and_Encoded_Data_Set_May_2018.csv'"
     ]
    }
   ],
   "source": [
    "for j in range(len(addresses)):\n",
    "    file_name=addresses[j]\n",
    "    df = pd.read_csv(file_name+'.csv')\n",
    "    file2=month[j]\n",
    "    file=file2\n",
    "    DISTRIBUTION_PLOT_RATING(df,file,file2)\n",
    "    DISTRIBUTION_PLOT_CALL_DROP_CATEGORY(df,file,file2)\n",
    "    DISTRIBUTION_PLOT_NETWORK_TYPE(df,file,file2)\n",
    "    DISTRIBUTION_PLOT_USAGE_TYPE(df,file,file2)\n",
    "    DISTRIBUTION_PLOT_STATES(df,file,file2)\n",
    "    DISTRIBUTION_PLOT_USAGE_TYPE(df,file,file2)\n",
    "    DISTRIBUTION_PLOT_OPERATOR(df,file,file2)\n",
    "    BOX_PLOT_OPERATOR_VS_RATING(df,file,file2)\n",
    "    BOX_PLOT_STATE_NAME_VS_RATING(df,file,file2)\n",
    "    BOX_PLOT_NETWORK_TYPE_VS_RATING(df,file,file2)\n",
    "    BOX_PLOT_USAGE_TYPE_VS_RATING(df,file,file2)\n",
    "    BOX_PLOT_CALL_DROP_CATEGORY_VS_RATING(df,file,file2)\n",
    "    SCATTER_PLOT_GOOD_CALL_RATINGS(df,file,file2)\n",
    "    BAR_PLOT_OPERATOR_VS_RATINGS_WITH_NETWORK_TYPE(df,file,file2)\n",
    "    BAR_PLOT_OPERATOR_VS_CALL_DROP_CATEGORY_WITH_NETWORK_TYPE(df,file,file2)\n",
    "    BAR_PLOT_OPERATOR_VS_OVERALL_RATINGS(df,file,file2)\n",
    "    BAR_PLOT_OPERATOR_VS_OVERALL_CALL_DROP_CATEGORY(df,file,file2)\n",
    "    HEAT_MAP_STATE_VS_OPERATOR_BASED_ON_RATING(df,file,file2)\n",
    "    HEAT_MAP_STATE_VS_OPERATOR_BASED_ON_CALL_DROP_CATEGORY(df,file,file2)\n",
    "    HEAT_MAP_OPERATOR_VS_USAGE_TYPE_BASED_ON_RATING(df,file,file2)\n",
    "    HEAT_MAP_OPERATOR_VS_USAGE_TYPE_BASED_ON_CALL_DROP_CATEGORY(df,file,file2)\n",
    "    BAR_PLOT_STATE_VS_RATING(df,file,file2)\n",
    "    BAR_PLOT_STATE_VS_CALL_DROP_CATEGORY(df,file,file2)\n",
    "    HEAT_MAP_CORRELATION_PLOT(df,file,file2)"
   ]
  },
  {
   "cell_type": "code",
   "execution_count": null,
   "metadata": {},
   "outputs": [],
   "source": []
  }
 ],
 "metadata": {
  "kernelspec": {
   "display_name": "Python 3",
   "language": "python",
   "name": "python3"
  },
  "language_info": {
   "codemirror_mode": {
    "name": "ipython",
    "version": 3
   },
   "file_extension": ".py",
   "mimetype": "text/x-python",
   "name": "python",
   "nbconvert_exporter": "python",
   "pygments_lexer": "ipython3",
   "version": "3.7.6"
  }
 },
 "nbformat": 4,
 "nbformat_minor": 2
}
